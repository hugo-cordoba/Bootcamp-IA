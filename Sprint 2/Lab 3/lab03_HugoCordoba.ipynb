{
 "cells": [
  {
   "cell_type": "code",
   "execution_count": 27,
   "metadata": {},
   "outputs": [],
   "source": [
    "# Import the necessary libraries\n",
    "import pandas as pd\n",
    "import numpy as np\n",
    "\n",
    "import matplotlib.pyplot as plt\n",
    "import seaborn as sns\n",
    "\n",
    "from sklearn.model_selection import train_test_split\n",
    "from sklearn.preprocessing import StandardScaler\n",
    "from sklearn.metrics import confusion_matrix\n",
    "\n",
    "import torch\n",
    "from torch.utils.data import Dataset, DataLoader\n",
    "import torch.nn as nn\n",
    "\n",
    "import time"
   ]
  },
  {
   "cell_type": "code",
   "execution_count": null,
   "metadata": {},
   "outputs": [],
   "source": []
  },
  {
   "cell_type": "markdown",
   "metadata": {},
   "source": [
    "## 1. Preparación de los datos\n",
    "\n",
    "1. Análisis de los datos\n",
    "\n",
    "2. Limpieza de los datos\n",
    "\n",
    "3. Preprocesamiento de los datos"
   ]
  },
  {
   "cell_type": "markdown",
   "metadata": {},
   "source": [
    "**ANALISIS DE DATOS** (Vemos que tenemos un dataset bastante limpio,\n",
    "sin variables categoricas, ni datos ausentes, ni columnas sin valor, por lo que\n",
    "continuamos con el dataset)"
   ]
  },
  {
   "cell_type": "code",
   "execution_count": 28,
   "metadata": {},
   "outputs": [
    {
     "data": {
      "text/html": [
       "<div>\n",
       "<style scoped>\n",
       "    .dataframe tbody tr th:only-of-type {\n",
       "        vertical-align: middle;\n",
       "    }\n",
       "\n",
       "    .dataframe tbody tr th {\n",
       "        vertical-align: top;\n",
       "    }\n",
       "\n",
       "    .dataframe thead th {\n",
       "        text-align: right;\n",
       "    }\n",
       "</style>\n",
       "<table border=\"1\" class=\"dataframe\">\n",
       "  <thead>\n",
       "    <tr style=\"text-align: right;\">\n",
       "      <th></th>\n",
       "      <th>fixed acidity</th>\n",
       "      <th>volatile acidity</th>\n",
       "      <th>citric acid</th>\n",
       "      <th>residual sugar</th>\n",
       "      <th>chlorides</th>\n",
       "      <th>free sulfur dioxide</th>\n",
       "      <th>total sulfur dioxide</th>\n",
       "      <th>density</th>\n",
       "      <th>pH</th>\n",
       "      <th>sulphates</th>\n",
       "      <th>alcohol</th>\n",
       "      <th>quality</th>\n",
       "    </tr>\n",
       "  </thead>\n",
       "  <tbody>\n",
       "    <tr>\n",
       "      <th>0</th>\n",
       "      <td>7.0</td>\n",
       "      <td>0.27</td>\n",
       "      <td>0.36</td>\n",
       "      <td>20.7</td>\n",
       "      <td>0.045</td>\n",
       "      <td>45.0</td>\n",
       "      <td>170.0</td>\n",
       "      <td>1.0010</td>\n",
       "      <td>3.00</td>\n",
       "      <td>0.45</td>\n",
       "      <td>8.8</td>\n",
       "      <td>6</td>\n",
       "    </tr>\n",
       "    <tr>\n",
       "      <th>1</th>\n",
       "      <td>6.3</td>\n",
       "      <td>0.30</td>\n",
       "      <td>0.34</td>\n",
       "      <td>1.6</td>\n",
       "      <td>0.049</td>\n",
       "      <td>14.0</td>\n",
       "      <td>132.0</td>\n",
       "      <td>0.9940</td>\n",
       "      <td>3.30</td>\n",
       "      <td>0.49</td>\n",
       "      <td>9.5</td>\n",
       "      <td>6</td>\n",
       "    </tr>\n",
       "    <tr>\n",
       "      <th>2</th>\n",
       "      <td>8.1</td>\n",
       "      <td>0.28</td>\n",
       "      <td>0.40</td>\n",
       "      <td>6.9</td>\n",
       "      <td>0.050</td>\n",
       "      <td>30.0</td>\n",
       "      <td>97.0</td>\n",
       "      <td>0.9951</td>\n",
       "      <td>3.26</td>\n",
       "      <td>0.44</td>\n",
       "      <td>10.1</td>\n",
       "      <td>6</td>\n",
       "    </tr>\n",
       "    <tr>\n",
       "      <th>3</th>\n",
       "      <td>7.2</td>\n",
       "      <td>0.23</td>\n",
       "      <td>0.32</td>\n",
       "      <td>8.5</td>\n",
       "      <td>0.058</td>\n",
       "      <td>47.0</td>\n",
       "      <td>186.0</td>\n",
       "      <td>0.9956</td>\n",
       "      <td>3.19</td>\n",
       "      <td>0.40</td>\n",
       "      <td>9.9</td>\n",
       "      <td>6</td>\n",
       "    </tr>\n",
       "    <tr>\n",
       "      <th>4</th>\n",
       "      <td>7.2</td>\n",
       "      <td>0.23</td>\n",
       "      <td>0.32</td>\n",
       "      <td>8.5</td>\n",
       "      <td>0.058</td>\n",
       "      <td>47.0</td>\n",
       "      <td>186.0</td>\n",
       "      <td>0.9956</td>\n",
       "      <td>3.19</td>\n",
       "      <td>0.40</td>\n",
       "      <td>9.9</td>\n",
       "      <td>6</td>\n",
       "    </tr>\n",
       "  </tbody>\n",
       "</table>\n",
       "</div>"
      ],
      "text/plain": [
       "   fixed acidity  volatile acidity  citric acid  residual sugar  chlorides  \\\n",
       "0            7.0              0.27         0.36            20.7      0.045   \n",
       "1            6.3              0.30         0.34             1.6      0.049   \n",
       "2            8.1              0.28         0.40             6.9      0.050   \n",
       "3            7.2              0.23         0.32             8.5      0.058   \n",
       "4            7.2              0.23         0.32             8.5      0.058   \n",
       "\n",
       "   free sulfur dioxide  total sulfur dioxide  density    pH  sulphates  \\\n",
       "0                 45.0                 170.0   1.0010  3.00       0.45   \n",
       "1                 14.0                 132.0   0.9940  3.30       0.49   \n",
       "2                 30.0                  97.0   0.9951  3.26       0.44   \n",
       "3                 47.0                 186.0   0.9956  3.19       0.40   \n",
       "4                 47.0                 186.0   0.9956  3.19       0.40   \n",
       "\n",
       "   alcohol  quality  \n",
       "0      8.8        6  \n",
       "1      9.5        6  \n",
       "2     10.1        6  \n",
       "3      9.9        6  \n",
       "4      9.9        6  "
      ]
     },
     "execution_count": 28,
     "metadata": {},
     "output_type": "execute_result"
    }
   ],
   "source": [
    "# Leer los datos\n",
    "data = pd.read_csv('./winequality-white.csv', sep=';')\n",
    "data.head()"
   ]
  },
  {
   "cell_type": "code",
   "execution_count": 29,
   "metadata": {},
   "outputs": [
    {
     "name": "stdout",
     "output_type": "stream",
     "text": [
      "\n",
      "Cantidad total de datos y cantidad de características:\n",
      "Número total de datos: 4898\n",
      "Número de características: 12\n"
     ]
    }
   ],
   "source": [
    "# Obtener la cantidad total de datos y la cantidad de características (columnas)\n",
    "print(\"\\nCantidad total de datos y cantidad de características:\")\n",
    "print(\"Número total de datos:\", len(data))\n",
    "print(\"Número de características:\", len(data.columns))"
   ]
  },
  {
   "cell_type": "code",
   "execution_count": 30,
   "metadata": {},
   "outputs": [
    {
     "name": "stdout",
     "output_type": "stream",
     "text": [
      "\n",
      "Tipos de datos de cada columna:\n",
      "fixed acidity           float64\n",
      "volatile acidity        float64\n",
      "citric acid             float64\n",
      "residual sugar          float64\n",
      "chlorides               float64\n",
      "free sulfur dioxide     float64\n",
      "total sulfur dioxide    float64\n",
      "density                 float64\n",
      "pH                      float64\n",
      "sulphates               float64\n",
      "alcohol                 float64\n",
      "quality                   int64\n",
      "dtype: object\n"
     ]
    }
   ],
   "source": [
    "# Ver los tipos de datos de cada columna\n",
    "print(\"\\nTipos de datos de cada columna:\")\n",
    "print(data.dtypes)"
   ]
  },
  {
   "cell_type": "code",
   "execution_count": 31,
   "metadata": {},
   "outputs": [
    {
     "name": "stdout",
     "output_type": "stream",
     "text": [
      "\n",
      "Cantidad de valores nulos en el conjunto de datos:\n",
      "fixed acidity           0\n",
      "volatile acidity        0\n",
      "citric acid             0\n",
      "residual sugar          0\n",
      "chlorides               0\n",
      "free sulfur dioxide     0\n",
      "total sulfur dioxide    0\n",
      "density                 0\n",
      "pH                      0\n",
      "sulphates               0\n",
      "alcohol                 0\n",
      "quality                 0\n",
      "dtype: int64\n"
     ]
    }
   ],
   "source": [
    "# Verificar si hay valores nulos en el conjunto de datos y contarlos\n",
    "print(\"\\nCantidad de valores nulos en el conjunto de datos:\")\n",
    "print(data.isnull().sum())"
   ]
  },
  {
   "cell_type": "code",
   "execution_count": 32,
   "metadata": {},
   "outputs": [
    {
     "name": "stdout",
     "output_type": "stream",
     "text": [
      "\n",
      "Cantidad de valores únicos en cada columna:\n",
      "fixed acidity            68\n",
      "volatile acidity        125\n",
      "citric acid              87\n",
      "residual sugar          310\n",
      "chlorides               160\n",
      "free sulfur dioxide     132\n",
      "total sulfur dioxide    251\n",
      "density                 890\n",
      "pH                      103\n",
      "sulphates                79\n",
      "alcohol                 103\n",
      "quality                   7\n",
      "dtype: int64\n"
     ]
    }
   ],
   "source": [
    "# Obtener información sobre la cantidad de valores únicos en cada columna\n",
    "print(\"\\nCantidad de valores únicos en cada columna:\")\n",
    "print(data.nunique())"
   ]
  },
  {
   "cell_type": "code",
   "execution_count": 33,
   "metadata": {},
   "outputs": [
    {
     "name": "stdout",
     "output_type": "stream",
     "text": [
      "Descripción estadística de las características numéricas:\n",
      "       fixed acidity  volatile acidity  citric acid  residual sugar  \\\n",
      "count    4898.000000       4898.000000  4898.000000     4898.000000   \n",
      "mean        6.854788          0.278241     0.334192        6.391415   \n",
      "std         0.843868          0.100795     0.121020        5.072058   \n",
      "min         3.800000          0.080000     0.000000        0.600000   \n",
      "25%         6.300000          0.210000     0.270000        1.700000   \n",
      "50%         6.800000          0.260000     0.320000        5.200000   \n",
      "75%         7.300000          0.320000     0.390000        9.900000   \n",
      "max        14.200000          1.100000     1.660000       65.800000   \n",
      "\n",
      "         chlorides  free sulfur dioxide  total sulfur dioxide      density  \\\n",
      "count  4898.000000          4898.000000           4898.000000  4898.000000   \n",
      "mean      0.045772            35.308085            138.360657     0.994027   \n",
      "std       0.021848            17.007137             42.498065     0.002991   \n",
      "min       0.009000             2.000000              9.000000     0.987110   \n",
      "25%       0.036000            23.000000            108.000000     0.991723   \n",
      "50%       0.043000            34.000000            134.000000     0.993740   \n",
      "75%       0.050000            46.000000            167.000000     0.996100   \n",
      "max       0.346000           289.000000            440.000000     1.038980   \n",
      "\n",
      "                pH    sulphates      alcohol      quality  \n",
      "count  4898.000000  4898.000000  4898.000000  4898.000000  \n",
      "mean      3.188267     0.489847    10.514267     5.877909  \n",
      "std       0.151001     0.114126     1.230621     0.885639  \n",
      "min       2.720000     0.220000     8.000000     3.000000  \n",
      "25%       3.090000     0.410000     9.500000     5.000000  \n",
      "50%       3.180000     0.470000    10.400000     6.000000  \n",
      "75%       3.280000     0.550000    11.400000     6.000000  \n",
      "max       3.820000     1.080000    14.200000     9.000000  \n"
     ]
    }
   ],
   "source": [
    "# Obtener una descripción estadística de las características numéricas\n",
    "print(\"Descripción estadística de las características numéricas:\")\n",
    "print(data.describe())"
   ]
  },
  {
   "cell_type": "markdown",
   "metadata": {},
   "source": [
    "## 2. Separar el conjunto de datos"
   ]
  },
  {
   "cell_type": "code",
   "execution_count": 34,
   "metadata": {},
   "outputs": [
    {
     "name": "stdout",
     "output_type": "stream",
     "text": [
      "Forma del conjunto de entrenamiento: (3183, 11) (3183,) 64.98570845242956\n",
      "Forma del conjunto de validación: (980, 11) (980,) 20.00816659861168\n",
      "Forma del conjunto de prueba: (735, 11) (735,) 15.00612494895876\n"
     ]
    }
   ],
   "source": [
    "from sklearn.model_selection import train_test_split\n",
    "\n",
    "# Dividir el conjunto de datos en entrenamiento (65%) y temporal (35%)\n",
    "train_data, temp_data = train_test_split(data, test_size=0.35, random_state=42)\n",
    "\n",
    "# Dividir el conjunto temporal en validación (20%) y prueba (15%)\n",
    "val_data, test_data = train_test_split(temp_data, test_size=0.42857, random_state=42)\n",
    "\n",
    "# Definir 'quality' como la variable a predecir\n",
    "X_train = train_data.drop(columns=['quality'])\n",
    "y_train = train_data['quality']\n",
    "\n",
    "X_val = val_data.drop(columns=['quality'])\n",
    "y_val = val_data['quality']\n",
    "\n",
    "X_test = test_data.drop(columns=['quality'])\n",
    "y_test = test_data['quality']\n",
    "\n",
    "# Calcular el porcentaje de datos para cada conjunto\n",
    "total_samples = len(data)\n",
    "train_percentage = len(train_data) / total_samples * 100\n",
    "val_percentage = len(val_data) / total_samples * 100\n",
    "test_percentage = len(test_data) / total_samples * 100\n",
    "\n",
    "# Verificar las formas de los conjuntos de datos resultantes\n",
    "print(\"Forma del conjunto de entrenamiento:\", X_train.shape, y_train.shape, train_percentage)\n",
    "print(\"Forma del conjunto de validación:\", X_val.shape, y_val.shape, val_percentage)\n",
    "print(\"Forma del conjunto de prueba:\", X_test.shape, y_test.shape, test_percentage)\n"
   ]
  },
  {
   "cell_type": "markdown",
   "metadata": {},
   "source": [
    "## 3. Estandarizacion de las variables"
   ]
  },
  {
   "cell_type": "code",
   "execution_count": 35,
   "metadata": {},
   "outputs": [],
   "source": [
    "from sklearn.preprocessing import StandardScaler\n",
    "\n",
    "# Creamos un objeto StandardScaler\n",
    "scaler = StandardScaler()\n",
    "\n",
    "# Estandarizamos las características (variables predictoras) en los conjuntos de entrenamiento, validación y prueba\n",
    "X_train_scaled = scaler.fit_transform(X_train)\n",
    "X_val_scaled = scaler.transform(X_val)\n",
    "X_test_scaled = scaler.transform(X_test)\n"
   ]
  },
  {
   "cell_type": "markdown",
   "metadata": {},
   "source": [
    "## 4. Creacion de los datasets en Pytorch"
   ]
  },
  {
   "cell_type": "code",
   "execution_count": 36,
   "metadata": {},
   "outputs": [],
   "source": [
    "import torch\n",
    "from torch.utils.data import Dataset, DataLoader\n",
    "\n",
    "class WineDataset(Dataset):\n",
    "    def __init__(self, x, y):\n",
    "        self.x = torch.tensor(x, dtype=torch.float32)\n",
    "        self.y = torch.tensor(np.array(y).astype(np.float32), dtype=torch.float32)\n",
    "        \n",
    "    def __len__(self):\n",
    "        return len(self.x)\n",
    "    \n",
    "    def __getitem__(self, idx):\n",
    "        return self.x[idx], self.y[idx]\n",
    "\n",
    "# Creamos datasets para entrenamiento, validación y prueba\n",
    "train_dataset = WineDataset(X_train_scaled, y_train.values)\n",
    "val_dataset = WineDataset(X_val_scaled, y_val.values)\n",
    "test_dataset = WineDataset(X_test_scaled, y_test.values)"
   ]
  },
  {
   "cell_type": "markdown",
   "metadata": {},
   "source": [
    "## 5. Creacion de DataLoaders en Pytorch"
   ]
  },
  {
   "cell_type": "code",
   "execution_count": 37,
   "metadata": {},
   "outputs": [
    {
     "name": "stdout",
     "output_type": "stream",
     "text": [
      "número de batch : 0\n",
      "x_train en i_batch :  torch.Size([64, 11])\n",
      "y_train en i_batch : torch.Size([64])\n"
     ]
    }
   ],
   "source": [
    "# Creamos dataloaders para facilitar el manejo de lotes de datos\n",
    "batch_size = 64\n",
    "train_dataloader = DataLoader(train_dataset, batch_size=batch_size, shuffle=True, num_workers=0)\n",
    "val_dataloader = DataLoader(val_dataset, batch_size=batch_size, shuffle=True, num_workers=0)\n",
    "test_dataloader = DataLoader(test_dataset, batch_size=batch_size, shuffle=True, num_workers=0)\n",
    "\n",
    "# Vemos un batch de datos (un consiste en 64 ejemplos de datos)\n",
    "for i_batch, (x_train, y_train) in enumerate(train_dataloader):\n",
    "    print(\"número de batch :\", i_batch)\n",
    "    print(\"x_train en i_batch : \", x_train.size())\n",
    "    print(\"y_train en i_batch :\", y_train.size())\n",
    "    break\n"
   ]
  },
  {
   "cell_type": "markdown",
   "metadata": {},
   "source": [
    "## 6. Definicion del modelo"
   ]
  },
  {
   "cell_type": "code",
   "execution_count": 38,
   "metadata": {},
   "outputs": [],
   "source": [
    "# Define the model\n",
    "class WineQualityModel(nn.Module):\n",
    "\n",
    "    #Initializar las capas\n",
    "    def __init__(self, input_shape):\n",
    "        super(WineQualityModel, self).__init__()\n",
    "        self.fc1 = nn.Linear(input_shape, 64) \n",
    "        self.fc2 = nn.Linear(64, 32) # 16, 32\n",
    "        self.fc3 = nn.Linear(32, 1) # 32, 1\n",
    "\n",
    "    # Implementar estas operaciones en los datos de entrada\n",
    "    def forward(self, x):\n",
    "        x = torch.relu(self.fc1(x))\n",
    "        x = torch.relu(self.fc2(x))  # x = torch.relu(self.fc2(x))\n",
    "        x = torch.sigmoid(self.fc3(x))  # x = torch.sigmoid(self.fc3(x))\n",
    "        return x"
   ]
  },
  {
   "cell_type": "code",
   "execution_count": 39,
   "metadata": {},
   "outputs": [
    {
     "name": "stdout",
     "output_type": "stream",
     "text": [
      "cpu\n",
      "WineQualityModel(\n",
      "  (fc1): Linear(in_features=11, out_features=64, bias=True)\n",
      "  (fc2): Linear(in_features=64, out_features=32, bias=True)\n",
      "  (fc3): Linear(in_features=32, out_features=1, bias=True)\n",
      ")\n"
     ]
    }
   ],
   "source": [
    "# Especificar que queremos usar una GPU si está disponible\n",
    "device = torch.device(\"cuda:0\" if torch.cuda.is_available() else \"cpu\")\n",
    "print(device)\n",
    "\n",
    "# Initializar el modelo\n",
    "model = WineQualityModel(input_shape=X_train_scaled.shape[1]).to(device)\n",
    "print(model)"
   ]
  },
  {
   "cell_type": "markdown",
   "metadata": {},
   "source": [
    "## 7. Especificacion de hiperparametros"
   ]
  },
  {
   "cell_type": "code",
   "execution_count": 40,
   "metadata": {},
   "outputs": [],
   "source": [
    "epochs = 10           # Número de épocas\n",
    "learning_rate = 0.01 # Tasa de aprendizaje"
   ]
  },
  {
   "cell_type": "markdown",
   "metadata": {},
   "source": [
    "## 8. Funcion de coste"
   ]
  },
  {
   "cell_type": "code",
   "execution_count": 41,
   "metadata": {},
   "outputs": [],
   "source": [
    "import torch.nn as nn\n",
    "\n",
    "# Especificar la función de pérdida\n",
    "criterion = nn.MSELoss()"
   ]
  },
  {
   "cell_type": "markdown",
   "metadata": {},
   "source": [
    "## 9. Seleccion del optimizador"
   ]
  },
  {
   "cell_type": "code",
   "execution_count": 42,
   "metadata": {},
   "outputs": [],
   "source": [
    "# Crear una instancia del optimizador\n",
    "optimizer = torch.optim.SGD(params=model.parameters(), lr=learning_rate)"
   ]
  },
  {
   "cell_type": "markdown",
   "metadata": {},
   "source": [
    "## 10. Funcion de entrenamiento"
   ]
  },
  {
   "cell_type": "code",
   "execution_count": 43,
   "metadata": {},
   "outputs": [],
   "source": [
    "def train_model(model, optimizer, criterion, train_dataloader, val_dataloader, num_epochs=10):\n",
    "    for epoch in range(num_epochs):\n",
    "        model.train()  # Establecer el modelo en modo de entrenamiento\n",
    "        \n",
    "        train_loss = 0.0\n",
    "        \n",
    "        # Iterar sobre los lotes de datos de entrenamiento\n",
    "        for inputs, targets in train_dataloader:\n",
    "            # Poner los datos en el dispositivo adecuado (GPU si está disponible)\n",
    "            inputs, targets = inputs.to(device), targets.to(device)\n",
    "            \n",
    "            # Reiniciar los gradientes\n",
    "            optimizer.zero_grad()\n",
    "            \n",
    "            # Realizar la pasada hacia adelante y obtener las predicciones\n",
    "            outputs = model(inputs)\n",
    "            \n",
    "            # Calcular la pérdida\n",
    "            loss = criterion(outputs, targets)\n",
    "            \n",
    "            # Realizar la pasada hacia atrás y optimizar los pesos\n",
    "            loss.backward()\n",
    "            optimizer.step()\n",
    "            \n",
    "            # Calcular la pérdida total del entrenamiento\n",
    "            train_loss += loss.item() * inputs.size(0)\n",
    "        \n",
    "        # Calcular la pérdida media del entrenamiento\n",
    "        train_loss = train_loss / len(train_dataloader.dataset)\n",
    "        \n",
    "        # Evaluar el modelo en el conjunto de validación\n",
    "        model.eval()  # Establecer el modelo en modo de evaluación\n",
    "        val_loss = 0.0\n",
    "        \n",
    "        with torch.no_grad():\n",
    "            for inputs, targets in val_dataloader:\n",
    "                inputs, targets = inputs.to(device), targets.to(device)\n",
    "                \n",
    "                outputs = model(inputs)\n",
    "                loss = criterion(outputs, targets)\n",
    "                \n",
    "                val_loss += loss.item() * inputs.size(0)\n",
    "        \n",
    "        val_loss = val_loss / len(val_dataloader.dataset)\n",
    "        \n",
    "        # Imprimir la pérdida del entrenamiento y validación en cada época\n",
    "        print('Epoch [{}/{}], Train Loss: {:.4f}, Val Loss: {:.4f}'\n",
    "              .format(epoch+1, num_epochs, train_loss, val_loss))\n"
   ]
  },
  {
   "cell_type": "markdown",
   "metadata": {},
   "source": [
    "## 11. Funcion de validacion"
   ]
  },
  {
   "cell_type": "code",
   "execution_count": 44,
   "metadata": {},
   "outputs": [],
   "source": [
    "def validate_model(model, criterion, val_dataloader):\n",
    "    model.eval()  # Establecer el modelo en modo de evaluación\n",
    "    val_loss = 0.0\n",
    "    \n",
    "    # Desactivar el cálculo de gradientes durante la validación\n",
    "    with torch.no_grad():\n",
    "        for inputs, targets in val_dataloader:\n",
    "            # Poner los datos en el dispositivo adecuado (GPU si está disponible)\n",
    "            inputs, targets = inputs.to(device), targets.to(device)\n",
    "            \n",
    "            # Realizar la pasada hacia adelante y obtener las predicciones\n",
    "            outputs = model(inputs)\n",
    "            \n",
    "            # Calcular la pérdida\n",
    "            loss = criterion(outputs, targets)\n",
    "            \n",
    "            # Sumar la pérdida total del conjunto de validación\n",
    "            val_loss += loss.item() * inputs.size(0)\n",
    "    \n",
    "    # Calcular la pérdida promedio del conjunto de validación\n",
    "    val_loss = val_loss / len(val_dataloader.dataset)\n",
    "    \n",
    "    return val_loss\n"
   ]
  },
  {
   "cell_type": "markdown",
   "metadata": {},
   "source": [
    "## 12. Creacion del bucle de validacion y entrenamiento"
   ]
  },
  {
   "cell_type": "code",
   "execution_count": 45,
   "metadata": {},
   "outputs": [
    {
     "name": "stdout",
     "output_type": "stream",
     "text": [
      "Epoch [1/10], Train Loss: 26.4128, Val Loss: 24.9690\n",
      "Epoch [2/10], Train Loss: 24.6866, Val Loss: 24.7077\n",
      "Epoch [3/10], Train Loss: 24.5696, Val Loss: 24.6584\n"
     ]
    },
    {
     "name": "stderr",
     "output_type": "stream",
     "text": [
      "c:\\Users\\hugoc\\AppData\\Local\\Programs\\Python\\Python311\\Lib\\site-packages\\torch\\nn\\modules\\loss.py:535: UserWarning: Using a target size (torch.Size([64])) that is different to the input size (torch.Size([64, 1])). This will likely lead to incorrect results due to broadcasting. Please ensure they have the same size.\n",
      "  return F.mse_loss(input, target, reduction=self.reduction)\n",
      "c:\\Users\\hugoc\\AppData\\Local\\Programs\\Python\\Python311\\Lib\\site-packages\\torch\\nn\\modules\\loss.py:535: UserWarning: Using a target size (torch.Size([47])) that is different to the input size (torch.Size([47, 1])). This will likely lead to incorrect results due to broadcasting. Please ensure they have the same size.\n",
      "  return F.mse_loss(input, target, reduction=self.reduction)\n",
      "c:\\Users\\hugoc\\AppData\\Local\\Programs\\Python\\Python311\\Lib\\site-packages\\torch\\nn\\modules\\loss.py:535: UserWarning: Using a target size (torch.Size([20])) that is different to the input size (torch.Size([20, 1])). This will likely lead to incorrect results due to broadcasting. Please ensure they have the same size.\n",
      "  return F.mse_loss(input, target, reduction=self.reduction)\n"
     ]
    },
    {
     "name": "stdout",
     "output_type": "stream",
     "text": [
      "Epoch [4/10], Train Loss: 24.5389, Val Loss: 24.6395\n",
      "Epoch [5/10], Train Loss: 24.5253, Val Loss: 24.6298\n",
      "Epoch [6/10], Train Loss: 24.5179, Val Loss: 24.6240\n",
      "Epoch [7/10], Train Loss: 24.5133, Val Loss: 24.6202\n",
      "Epoch [8/10], Train Loss: 24.5102, Val Loss: 24.6176\n",
      "Epoch [9/10], Train Loss: 24.5079, Val Loss: 24.6156\n",
      "Epoch [10/10], Train Loss: 24.5063, Val Loss: 24.6141\n"
     ]
    }
   ],
   "source": [
    "# Definir listas para almacenar las pérdidas de entrenamiento y validación\n",
    "train_losses = []\n",
    "val_losses = []\n",
    "\n",
    "# Bucle de entrenamiento y validación\n",
    "for epoch in range(epochs):\n",
    "    model.train()  # Establecer el modelo en modo de entrenamiento\n",
    "    \n",
    "    train_loss = 0.0\n",
    "    for inputs, targets in train_dataloader:\n",
    "        inputs, targets = inputs.to(device), targets.to(device)\n",
    "        \n",
    "        optimizer.zero_grad()\n",
    "        \n",
    "        outputs = model(inputs)\n",
    "        loss = criterion(outputs, targets)\n",
    "        \n",
    "        loss.backward()\n",
    "        optimizer.step()\n",
    "        \n",
    "        train_loss += loss.item() * inputs.size(0)\n",
    "    \n",
    "    train_loss = train_loss / len(train_dataloader.dataset)\n",
    "    \n",
    "    val_loss = validate_model(model, criterion, val_dataloader)\n",
    "    \n",
    "    # Almacenar las pérdidas de entrenamiento y validación en las listas\n",
    "    train_losses.append(train_loss)\n",
    "    val_losses.append(val_loss)\n",
    "    \n",
    "    print('Epoch [{}/{}], Train Loss: {:.4f}, Val Loss: {:.4f}'\n",
    "          .format(epoch+1, epochs, train_loss, val_loss))\n",
    "\n"
   ]
  },
  {
   "cell_type": "markdown",
   "metadata": {},
   "source": [
    "## 14. Evaluacion"
   ]
  },
  {
   "cell_type": "code",
   "execution_count": 46,
   "metadata": {},
   "outputs": [
    {
     "data": {
      "image/png": "[encoded data removed]",
      "text/plain": [
       "<Figure size 640x480 with 1 Axes>"
      ]
     },
     "metadata": {},
     "output_type": "display_data"
    }
   ],
   "source": [
    "# Trazar la curva de aprendizaje\n",
    "plt.plot(range(1, epochs+1), train_losses, label='Training Loss')\n",
    "plt.plot(range(1, epochs+1), val_losses, label='Validation Loss')\n",
    "plt.xlabel('Epoch')\n",
    "plt.ylabel('Loss')\n",
    "plt.title('Learning Curve')\n",
    "plt.legend()\n",
    "plt.show()"
   ]
  },
  {
   "cell_type": "markdown",
   "metadata": {},
   "source": [
    "## 14. Funcion para las predicciones"
   ]
  },
  {
   "cell_type": "code",
   "execution_count": 47,
   "metadata": {},
   "outputs": [
    {
     "name": "stdout",
     "output_type": "stream",
     "text": [
      "Test Loss: 24.9109\n"
     ]
    },
    {
     "name": "stderr",
     "output_type": "stream",
     "text": [
      "c:\\Users\\hugoc\\AppData\\Local\\Programs\\Python\\Python311\\Lib\\site-packages\\torch\\nn\\modules\\loss.py:535: UserWarning: Using a target size (torch.Size([31])) that is different to the input size (torch.Size([31, 1])). This will likely lead to incorrect results due to broadcasting. Please ensure they have the same size.\n",
      "  return F.mse_loss(input, target, reduction=self.reduction)\n"
     ]
    }
   ],
   "source": [
    "def evaluate_model(model, criterion, dataloader):\n",
    "    model.eval()  # Establecer el modelo en modo de evaluación\n",
    "    total_loss = 0.0\n",
    "    total_samples = 0\n",
    "    \n",
    "    with torch.no_grad():\n",
    "        for inputs, targets in dataloader:\n",
    "            inputs, targets = inputs.to(device), targets.to(device)\n",
    "            \n",
    "            outputs = model(inputs)\n",
    "            loss = criterion(outputs, targets)\n",
    "            \n",
    "            total_loss += loss.item() * inputs.size(0)\n",
    "            total_samples += inputs.size(0)\n",
    "    \n",
    "    avg_loss = total_loss / total_samples\n",
    "    return avg_loss\n",
    "\n",
    "# Utilizar la función evaluate_model para obtener el error en el conjunto de prueba\n",
    "test_loss = evaluate_model(model, criterion, test_dataloader)\n",
    "print('Test Loss: {:.4f}'.format(test_loss))\n"
   ]
  },
  {
   "cell_type": "markdown",
   "metadata": {},
   "source": [
    "## 16. Evaluacion de la prediccion\n",
    "\n",
    "Podemos observar que la prediccion tiene un 24.91% de perdida, lo que nos\n",
    "indica que es una cifra elevada y las predicciones no son los mas acertadas\n",
    "posibles. Deberiamos revisar el modelo para poder detectar mejoras en el codigo\n",
    "y que la prediccion tenga un porcentaje de exito mayor."
   ]
  }
 ],
 "metadata": {
  "kernelspec": {
   "display_name": "Python 3",
   "language": "python",
   "name": "python3"
  },
  "language_info": {
   "codemirror_mode": {
    "name": "ipython",
    "version": 3
   },
   "file_extension": ".py",
   "mimetype": "text/x-python",
   "name": "python",
   "nbconvert_exporter": "python",
   "pygments_lexer": "ipython3",
   "version": "3.11.8"
  }
 },
 "nbformat": 4,
 "nbformat_minor": 2
}
