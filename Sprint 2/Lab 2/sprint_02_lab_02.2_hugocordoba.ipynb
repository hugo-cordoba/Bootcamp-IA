{
 "cells": [
  {
   "cell_type": "code",
   "execution_count": 20,
   "metadata": {},
   "outputs": [],
   "source": [
    "# import the necessary packages\n",
    "from sklearn.preprocessing import LabelBinarizer\n",
    "from sklearn.metrics import classification_report\n",
    "from tensorflow.keras.models import Sequential\n",
    "from tensorflow.keras.layers import Dense, Dropout\n",
    "from tensorflow.keras.optimizers import SGD\n",
    "from tensorflow.keras.datasets import mnist\n",
    "import tensorflow as tf\n",
    "import matplotlib.pyplot as plt\n",
    "import numpy as np\n",
    "import pandas as pd\n",
    "import argparse"
   ]
  },
  {
   "cell_type": "markdown",
   "metadata": {},
   "source": [
    "Method definition"
   ]
  },
  {
   "cell_type": "code",
   "execution_count": 21,
   "metadata": {},
   "outputs": [],
   "source": [
    "def plot_grid(X, y, grid_size):# Define the grid size\n",
    "    # Create a figure to hold the images\n",
    "    fig, axes = plt.subplots(grid_size, grid_size, figsize=(8, 10))\n",
    "\n",
    "    for i in range(grid_size):\n",
    "        for j in range(grid_size):\n",
    "            # Calculate the index into the image array\n",
    "            index = i * grid_size + j\n",
    "            \n",
    "            # Display the image\n",
    "            axes[i, j].imshow(X[index], cmap='gray')\n",
    "            \n",
    "            # Remove the axis\n",
    "            axes[i, j].axis('off')\n",
    "            \n",
    "    # Show the plot\n",
    "    plt.show()\n",
    "\n",
    "\n",
    "def print_metrics(predictions, X_test, y_test, H, epochs):\n",
    "\n",
    "    print(classification_report(y_test.argmax(axis=1),\tpredictions.argmax(axis=1)))\n",
    "\n",
    "    plt.style.use(\"ggplot\")\n",
    "    plt.figure()\n",
    "    plt.plot(np.arange(0, epochs), H.history[\"loss\"], label=\"train_loss\")\n",
    "    plt.plot(np.arange(0, epochs), H.history[\"val_loss\"], label=\"val_loss\")\n",
    "    plt.plot(np.arange(0, epochs), H.history[\"accuracy\"], label=\"train_acc\")\n",
    "    plt.plot(np.arange(0, epochs), H.history[\"val_accuracy\"], label=\"val_acc\")\n",
    "    plt.title(\"Training Loss and Accuracy\")\n",
    "    plt.xlabel(\"Epoch #\")\n",
    "    plt.ylabel(\"Loss/Accuracy\")\n",
    "    plt.legend()"
   ]
  },
  {
   "cell_type": "markdown",
   "metadata": {},
   "source": [
    "Loading the dataset"
   ]
  },
  {
   "cell_type": "code",
   "execution_count": 22,
   "metadata": {},
   "outputs": [
    {
     "name": "stdout",
     "output_type": "stream",
     "text": [
      "[INFO] loading MNIST data...\n"
     ]
    }
   ],
   "source": [
    "# Split the data into training and validation\n",
    "print(\"[INFO] loading MNIST data...\")\n",
    "((X_train, y_train), (X_test, y_test)) =  mnist.load_data()"
   ]
  },
  {
   "cell_type": "markdown",
   "metadata": {},
   "source": [
    "Analyze the size of the dataset"
   ]
  },
  {
   "cell_type": "code",
   "execution_count": 23,
   "metadata": {},
   "outputs": [
    {
     "name": "stdout",
     "output_type": "stream",
     "text": [
      "Size of X_train:  60000\n",
      "Size of X_test:  10000\n",
      "Total size of dataset:  70000\n",
      "Training data percentage:  0.8571428571428571\n",
      "Test data percentage:  0.14285714285714285\n"
     ]
    }
   ],
   "source": [
    "print(\"Size of X_train: \", X_train.shape[0])\n",
    "print(\"Size of X_test: \", X_test.shape[0])\n",
    "\n",
    "print(\"Total size of dataset: \", X_train.shape[0] + X_test.shape[0])\n",
    "\n",
    "\n",
    "print(\"Training data percentage: \", X_train.shape[0] / (X_train.shape[0] + X_test.shape[0]))\n",
    "print(\"Test data percentage: \", X_test.shape[0] / (X_train.shape[0] + X_test.shape[0]))\n"
   ]
  },
  {
   "cell_type": "code",
   "execution_count": 24,
   "metadata": {},
   "outputs": [
    {
     "name": "stdout",
     "output_type": "stream",
     "text": [
      "Number of cases and their distribution in the training dataset:  {0: 5923, 1: 6742, 2: 5958, 3: 6131, 4: 5842, 5: 5421, 6: 5918, 7: 6265, 8: 5851, 9: 5949}\n"
     ]
    }
   ],
   "source": [
    "# Count the number of different cases in a list\n",
    "unique, counts = np.unique(y_train, return_counts=True)\n",
    "print(\"Number of cases and their distribution in the training dataset: \", dict(zip(unique, counts)))"
   ]
  },
  {
   "cell_type": "code",
   "execution_count": 25,
   "metadata": {},
   "outputs": [
    {
     "data": {
      "image/png": "[encoded data removed]",
      "text/plain": [
       "<Figure size 800x1000 with 25 Axes>"
      ]
     },
     "metadata": {},
     "output_type": "display_data"
    }
   ],
   "source": [
    "plot_grid(X_train, y_train, 5)"
   ]
  },
  {
   "cell_type": "markdown",
   "metadata": {},
   "source": [
    "Preparation of input data"
   ]
  },
  {
   "cell_type": "code",
   "execution_count": 26,
   "metadata": {},
   "outputs": [],
   "source": [
    "# We normalise the image values between 0 and 1.\n",
    "X_train = X_train.astype('float32') / 255.0\n",
    "X_test = X_test.astype('float32') / 255.0"
   ]
  },
  {
   "cell_type": "code",
   "execution_count": 27,
   "metadata": {},
   "outputs": [
    {
     "name": "stdout",
     "output_type": "stream",
     "text": [
      "Size of image (28, 28)\n",
      "---------\n",
      "Image vector size 784\n",
      "Image vector size 784\n"
     ]
    }
   ],
   "source": [
    "print(\"Size of image\", X_train[0].shape)\n",
    "print(\"---------\")\n",
    "print(\"Image vector size\", X_train[0].shape[0] * X_train[0].shape[1])\n",
    "print(\"Image vector size\", X_train[0].flatten().shape[0])"
   ]
  },
  {
   "cell_type": "code",
   "execution_count": 28,
   "metadata": {},
   "outputs": [],
   "source": [
    "# We convert the images (matrices) into flat vectors of 3072 elements.\n",
    "X_train = X_train.reshape((X_train.shape[0], 784))\n",
    "X_test = X_test.reshape((X_test.shape[0], 784))"
   ]
  },
  {
   "cell_type": "code",
   "execution_count": 29,
   "metadata": {},
   "outputs": [
    {
     "name": "stdout",
     "output_type": "stream",
     "text": [
      "New label structure -> [0 0 0 0 0 0 0 1 0 0]\n"
     ]
    }
   ],
   "source": [
    "# We bin the tags (one-hot encoding), converting them from a numerical value to a vector of 10 elements.\n",
    "lb = LabelBinarizer()\n",
    "y_train = lb.fit_transform(y_train)\n",
    "y_test = lb.transform(y_test)\n",
    "\n",
    "print(f\"New label structure -> {y_test[0]}\")"
   ]
  },
  {
   "cell_type": "markdown",
   "metadata": {},
   "source": [
    "### Neural Network Design\n",
    "\n",
    "At this point, we have prepared the input data, so the requirements for the design of the NR will be:\n",
    "\n",
    " - Must have **3072** neurons in the **input** layer.\n",
    " - It must have **10** neurons in the **output** layer.\n",
    " - We need a multicalse sorting activation function -> **softmax**."
   ]
  },
  {
   "cell_type": "code",
   "execution_count": 30,
   "metadata": {},
   "outputs": [],
   "source": [
    "model = Sequential()\n",
    "model.add(Dense(1024, input_shape=(784,), activation=\"relu\"))\n",
    "model.add(Dense(512, activation=\"relu\"))\n",
    "model.add(Dense(10, activation=\"softmax\"))"
   ]
  },
  {
   "cell_type": "code",
   "execution_count": 31,
   "metadata": {},
   "outputs": [
    {
     "name": "stdout",
     "output_type": "stream",
     "text": [
      "Epoch 1/50\n",
      "400/400 [==============================] - 4s 9ms/step - loss: 1.1238 - accuracy: 0.7666 - val_loss: 0.5406 - val_accuracy: 0.8782\n",
      "Epoch 2/50\n",
      "400/400 [==============================] - 5s 13ms/step - loss: 0.4612 - accuracy: 0.8844 - val_loss: 0.3797 - val_accuracy: 0.9017\n",
      "Epoch 3/50\n",
      "400/400 [==============================] - 5s 11ms/step - loss: 0.3658 - accuracy: 0.9006 - val_loss: 0.3241 - val_accuracy: 0.9118\n",
      "Epoch 4/50\n",
      "400/400 [==============================] - 5s 12ms/step - loss: 0.3239 - accuracy: 0.9105 - val_loss: 0.2963 - val_accuracy: 0.9188\n",
      "Epoch 5/50\n",
      "400/400 [==============================] - 5s 12ms/step - loss: 0.2975 - accuracy: 0.9168 - val_loss: 0.2770 - val_accuracy: 0.9226\n",
      "Epoch 6/50\n",
      "400/400 [==============================] - 5s 12ms/step - loss: 0.2779 - accuracy: 0.9215 - val_loss: 0.2605 - val_accuracy: 0.9278\n",
      "Epoch 7/50\n",
      "400/400 [==============================] - 4s 11ms/step - loss: 0.2622 - accuracy: 0.9260 - val_loss: 0.2473 - val_accuracy: 0.9300\n",
      "Epoch 8/50\n",
      "400/400 [==============================] - 4s 11ms/step - loss: 0.2488 - accuracy: 0.9297 - val_loss: 0.2359 - val_accuracy: 0.9329\n",
      "Epoch 9/50\n",
      "400/400 [==============================] - 4s 11ms/step - loss: 0.2369 - accuracy: 0.9331 - val_loss: 0.2273 - val_accuracy: 0.9353\n",
      "Epoch 10/50\n",
      "400/400 [==============================] - 5s 12ms/step - loss: 0.2265 - accuracy: 0.9362 - val_loss: 0.2172 - val_accuracy: 0.9373\n",
      "Epoch 11/50\n",
      "400/400 [==============================] - 5s 12ms/step - loss: 0.2168 - accuracy: 0.9388 - val_loss: 0.2104 - val_accuracy: 0.9389\n",
      "Epoch 12/50\n",
      "400/400 [==============================] - 5s 12ms/step - loss: 0.2081 - accuracy: 0.9415 - val_loss: 0.2023 - val_accuracy: 0.9426\n",
      "Epoch 13/50\n",
      "400/400 [==============================] - 5s 12ms/step - loss: 0.2000 - accuracy: 0.9436 - val_loss: 0.1942 - val_accuracy: 0.9442\n",
      "Epoch 14/50\n",
      "400/400 [==============================] - 5s 12ms/step - loss: 0.1923 - accuracy: 0.9457 - val_loss: 0.1886 - val_accuracy: 0.9453\n",
      "Epoch 15/50\n",
      "400/400 [==============================] - 5s 12ms/step - loss: 0.1853 - accuracy: 0.9481 - val_loss: 0.1825 - val_accuracy: 0.9465\n",
      "Epoch 16/50\n",
      "400/400 [==============================] - 5s 12ms/step - loss: 0.1787 - accuracy: 0.9495 - val_loss: 0.1766 - val_accuracy: 0.9494\n",
      "Epoch 17/50\n",
      "400/400 [==============================] - 5s 12ms/step - loss: 0.1725 - accuracy: 0.9516 - val_loss: 0.1714 - val_accuracy: 0.9509\n",
      "Epoch 18/50\n",
      "400/400 [==============================] - 4s 11ms/step - loss: 0.1667 - accuracy: 0.9530 - val_loss: 0.1681 - val_accuracy: 0.9518\n",
      "Epoch 19/50\n",
      "400/400 [==============================] - 4s 11ms/step - loss: 0.1613 - accuracy: 0.9546 - val_loss: 0.1627 - val_accuracy: 0.9534\n",
      "Epoch 20/50\n",
      "400/400 [==============================] - 4s 11ms/step - loss: 0.1562 - accuracy: 0.9562 - val_loss: 0.1579 - val_accuracy: 0.9536\n",
      "Epoch 21/50\n",
      "400/400 [==============================] - 5s 12ms/step - loss: 0.1514 - accuracy: 0.9575 - val_loss: 0.1528 - val_accuracy: 0.9559\n",
      "Epoch 22/50\n",
      "400/400 [==============================] - 5s 12ms/step - loss: 0.1468 - accuracy: 0.9591 - val_loss: 0.1497 - val_accuracy: 0.9569\n",
      "Epoch 23/50\n",
      "400/400 [==============================] - 5s 12ms/step - loss: 0.1425 - accuracy: 0.9603 - val_loss: 0.1463 - val_accuracy: 0.9576\n",
      "Epoch 24/50\n",
      "400/400 [==============================] - 5s 13ms/step - loss: 0.1383 - accuracy: 0.9614 - val_loss: 0.1423 - val_accuracy: 0.9584\n",
      "Epoch 25/50\n",
      "400/400 [==============================] - 5s 12ms/step - loss: 0.1344 - accuracy: 0.9622 - val_loss: 0.1390 - val_accuracy: 0.9595\n",
      "Epoch 26/50\n",
      "400/400 [==============================] - 5s 12ms/step - loss: 0.1307 - accuracy: 0.9640 - val_loss: 0.1363 - val_accuracy: 0.9600\n",
      "Epoch 27/50\n",
      "400/400 [==============================] - 5s 12ms/step - loss: 0.1269 - accuracy: 0.9647 - val_loss: 0.1347 - val_accuracy: 0.9612\n",
      "Epoch 28/50\n",
      "400/400 [==============================] - 5s 12ms/step - loss: 0.1238 - accuracy: 0.9657 - val_loss: 0.1304 - val_accuracy: 0.9622\n",
      "Epoch 29/50\n",
      "400/400 [==============================] - 6s 16ms/step - loss: 0.1203 - accuracy: 0.9668 - val_loss: 0.1290 - val_accuracy: 0.9611\n",
      "Epoch 30/50\n",
      "400/400 [==============================] - 5s 13ms/step - loss: 0.1173 - accuracy: 0.9681 - val_loss: 0.1260 - val_accuracy: 0.9633\n",
      "Epoch 31/50\n",
      "400/400 [==============================] - 6s 15ms/step - loss: 0.1141 - accuracy: 0.9687 - val_loss: 0.1230 - val_accuracy: 0.9637\n",
      "Epoch 32/50\n",
      "400/400 [==============================] - 7s 19ms/step - loss: 0.1115 - accuracy: 0.9693 - val_loss: 0.1207 - val_accuracy: 0.9648\n",
      "Epoch 33/50\n",
      "400/400 [==============================] - 6s 16ms/step - loss: 0.1087 - accuracy: 0.9701 - val_loss: 0.1176 - val_accuracy: 0.9659\n",
      "Epoch 34/50\n",
      "400/400 [==============================] - 6s 14ms/step - loss: 0.1060 - accuracy: 0.9707 - val_loss: 0.1164 - val_accuracy: 0.9659\n",
      "Epoch 35/50\n",
      "400/400 [==============================] - 7s 16ms/step - loss: 0.1033 - accuracy: 0.9719 - val_loss: 0.1152 - val_accuracy: 0.9653\n",
      "Epoch 36/50\n",
      "400/400 [==============================] - 5s 13ms/step - loss: 0.1010 - accuracy: 0.9725 - val_loss: 0.1119 - val_accuracy: 0.9666\n",
      "Epoch 37/50\n",
      "400/400 [==============================] - 5s 12ms/step - loss: 0.0986 - accuracy: 0.9730 - val_loss: 0.1110 - val_accuracy: 0.9662\n",
      "Epoch 38/50\n",
      "400/400 [==============================] - 7s 16ms/step - loss: 0.0964 - accuracy: 0.9733 - val_loss: 0.1096 - val_accuracy: 0.9670\n",
      "Epoch 39/50\n",
      "400/400 [==============================] - 6s 15ms/step - loss: 0.0942 - accuracy: 0.9743 - val_loss: 0.1067 - val_accuracy: 0.9682\n",
      "Epoch 40/50\n",
      "400/400 [==============================] - 5s 13ms/step - loss: 0.0921 - accuracy: 0.9749 - val_loss: 0.1056 - val_accuracy: 0.9681\n",
      "Epoch 41/50\n",
      "400/400 [==============================] - 5s 12ms/step - loss: 0.0900 - accuracy: 0.9757 - val_loss: 0.1048 - val_accuracy: 0.9682\n",
      "Epoch 42/50\n",
      "400/400 [==============================] - 5s 12ms/step - loss: 0.0881 - accuracy: 0.9759 - val_loss: 0.1022 - val_accuracy: 0.9697\n",
      "Epoch 43/50\n",
      "400/400 [==============================] - 5s 13ms/step - loss: 0.0860 - accuracy: 0.9765 - val_loss: 0.1007 - val_accuracy: 0.9696\n",
      "Epoch 44/50\n",
      "400/400 [==============================] - 5s 12ms/step - loss: 0.0843 - accuracy: 0.9769 - val_loss: 0.0989 - val_accuracy: 0.9703\n",
      "Epoch 45/50\n",
      "400/400 [==============================] - 5s 12ms/step - loss: 0.0825 - accuracy: 0.9775 - val_loss: 0.0985 - val_accuracy: 0.9705\n",
      "Epoch 46/50\n",
      "400/400 [==============================] - 5s 12ms/step - loss: 0.0806 - accuracy: 0.9783 - val_loss: 0.0969 - val_accuracy: 0.9706\n",
      "Epoch 47/50\n",
      "400/400 [==============================] - 5s 12ms/step - loss: 0.0791 - accuracy: 0.9783 - val_loss: 0.0956 - val_accuracy: 0.9712\n",
      "Epoch 48/50\n",
      "400/400 [==============================] - 5s 12ms/step - loss: 0.0774 - accuracy: 0.9790 - val_loss: 0.0943 - val_accuracy: 0.9719\n",
      "Epoch 49/50\n",
      "400/400 [==============================] - 5s 13ms/step - loss: 0.0757 - accuracy: 0.9797 - val_loss: 0.0936 - val_accuracy: 0.9723\n",
      "Epoch 50/50\n",
      "400/400 [==============================] - 6s 14ms/step - loss: 0.0742 - accuracy: 0.9801 - val_loss: 0.0923 - val_accuracy: 0.9721\n"
     ]
    }
   ],
   "source": [
    "sgd = SGD(learning_rate=0.01)\n",
    "model.compile(loss=\"categorical_crossentropy\", optimizer=sgd,\n",
    "\tmetrics=[\"accuracy\"])\n",
    "H = model.fit(X_train, y_train, validation_data=(X_test, y_test),\n",
    " \tepochs=50, batch_size=150)"
   ]
  },
  {
   "cell_type": "markdown",
   "metadata": {},
   "source": [
    "##### Making inference with the trained model\n",
    "\n",
    "We use the trained model to precede an image."
   ]
  },
  {
   "cell_type": "code",
   "execution_count": 32,
   "metadata": {},
   "outputs": [
    {
     "data": {
      "text/plain": [
       "<matplotlib.image.AxesImage at 0x14420cdd0>"
      ]
     },
     "execution_count": 32,
     "metadata": {},
     "output_type": "execute_result"
    },
    {
     "data": {
      "image/png": "[encoded data removed]",
      "text/plain": [
       "<Figure size 200x200 with 1 Axes>"
      ]
     },
     "metadata": {},
     "output_type": "display_data"
    }
   ],
   "source": [
    "# We visualise the image before classification\n",
    "index = 109\n",
    "\n",
    "plt.figure(figsize=(2,2))\n",
    "plt.imshow(X_test[index].reshape(28, 28))"
   ]
  },
  {
   "cell_type": "code",
   "execution_count": 33,
   "metadata": {},
   "outputs": [
    {
     "name": "stdout",
     "output_type": "stream",
     "text": [
      "1/1 [==============================] - 0s 130ms/step\n",
      "Class predicted for the image 4\n"
     ]
    }
   ],
   "source": [
    "# We pass the image to the model to obtain the prediction.\n",
    "prediction = model.predict(X_test[index].reshape(1, 784))\n",
    "prediction.argmax(axis=1)\n",
    "\n",
    "print(\"Class predicted for the image\", prediction.argmax(axis=1)[0])"
   ]
  },
  {
   "cell_type": "markdown",
   "metadata": {},
   "source": [
    "### Analysing the training"
   ]
  },
  {
   "cell_type": "code",
   "execution_count": 34,
   "metadata": {},
   "outputs": [
    {
     "name": "stdout",
     "output_type": "stream",
     "text": [
      "67/67 [==============================] - 0s 5ms/step\n",
      "              precision    recall  f1-score   support\n",
      "\n",
      "           0       0.97      0.99      0.98       980\n",
      "           1       0.98      0.99      0.99      1135\n",
      "           2       0.97      0.97      0.97      1032\n",
      "           3       0.97      0.98      0.97      1010\n",
      "           4       0.97      0.97      0.97       982\n",
      "           5       0.97      0.97      0.97       892\n",
      "           6       0.97      0.97      0.97       958\n",
      "           7       0.97      0.97      0.97      1028\n",
      "           8       0.97      0.96      0.97       974\n",
      "           9       0.97      0.95      0.96      1009\n",
      "\n",
      "    accuracy                           0.97     10000\n",
      "   macro avg       0.97      0.97      0.97     10000\n",
      "weighted avg       0.97      0.97      0.97     10000\n",
      "\n"
     ]
    }
   ],
   "source": [
    "predictions = model.predict(X_test, batch_size=150)\n",
    "\n",
    "print(classification_report(y_test.argmax(axis=1),\tpredictions.argmax(axis=1)))"
   ]
  },
  {
   "cell_type": "code",
   "execution_count": 35,
   "metadata": {},
   "outputs": [
    {
     "name": "stdout",
     "output_type": "stream",
     "text": [
      "              precision    recall  f1-score   support\n",
      "\n",
      "           0       0.97      0.99      0.98       980\n",
      "           1       0.98      0.99      0.99      1135\n",
      "           2       0.97      0.97      0.97      1032\n",
      "           3       0.97      0.98      0.97      1010\n",
      "           4       0.97      0.97      0.97       982\n",
      "           5       0.97      0.97      0.97       892\n",
      "           6       0.97      0.97      0.97       958\n",
      "           7       0.97      0.97      0.97      1028\n",
      "           8       0.97      0.96      0.97       974\n",
      "           9       0.97      0.95      0.96      1009\n",
      "\n",
      "    accuracy                           0.97     10000\n",
      "   macro avg       0.97      0.97      0.97     10000\n",
      "weighted avg       0.97      0.97      0.97     10000\n",
      "\n"
     ]
    },
    {
     "data": {
      "image/png": "[encoded data removed]",
      "text/plain": [
       "<Figure size 640x480 with 1 Axes>"
      ]
     },
     "metadata": {},
     "output_type": "display_data"
    }
   ],
   "source": [
    "print_metrics(predictions, X_test, y_test, H, 50)"
   ]
  }
 ],
 "metadata": {
  "kernelspec": {
   "display_name": "Python 3",
   "language": "python",
   "name": "python3"
  },
  "language_info": {
   "codemirror_mode": {
    "name": "ipython",
    "version": 3
   },
   "file_extension": ".py",
   "mimetype": "text/x-python",
   "name": "python",
   "nbconvert_exporter": "python",
   "pygments_lexer": "ipython3",
   "version": "3.11.7"
  }
 },
 "nbformat": 4,
 "nbformat_minor": 2
}
