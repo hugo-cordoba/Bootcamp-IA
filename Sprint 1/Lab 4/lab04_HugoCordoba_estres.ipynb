{
 "cells": [
  {
   "cell_type": "code",
   "execution_count": 231,
   "metadata": {},
   "outputs": [],
   "source": [
    "# Importar librerias necesarias\n",
    "import pandas as pd\n",
    "import numpy as np\n",
    "from sklearn.model_selection import train_test_split\n",
    "from sklearn.ensemble import RandomForestRegressor\n",
    "from sklearn.metrics import mean_squared_error, r2_score\n",
    "from sklearn.preprocessing import LabelEncoder\n",
    "\n",
    "\n",
    "rn_state = 42 # random state for reproducibility"
   ]
  },
  {
   "cell_type": "markdown",
   "metadata": {},
   "source": [
    "**1. Analisis del dataset** (Analisis de datos, limpieza y preparacion)"
   ]
  },
  {
   "cell_type": "code",
   "execution_count": 232,
   "metadata": {},
   "outputs": [
    {
     "data": {
      "text/html": [
       "<div>\n",
       "<style scoped>\n",
       "    .dataframe tbody tr th:only-of-type {\n",
       "        vertical-align: middle;\n",
       "    }\n",
       "\n",
       "    .dataframe tbody tr th {\n",
       "        vertical-align: top;\n",
       "    }\n",
       "\n",
       "    .dataframe thead th {\n",
       "        text-align: right;\n",
       "    }\n",
       "</style>\n",
       "<table border=\"1\" class=\"dataframe\">\n",
       "  <thead>\n",
       "    <tr style=\"text-align: right;\">\n",
       "      <th></th>\n",
       "      <th>Person ID</th>\n",
       "      <th>Gender</th>\n",
       "      <th>Age</th>\n",
       "      <th>Occupation</th>\n",
       "      <th>Sleep Duration</th>\n",
       "      <th>Quality of Sleep</th>\n",
       "      <th>Physical Activity Level</th>\n",
       "      <th>Stress Level</th>\n",
       "      <th>BMI Category</th>\n",
       "      <th>Blood Pressure</th>\n",
       "      <th>Heart Rate</th>\n",
       "      <th>Daily Steps</th>\n",
       "      <th>Sleep Disorder</th>\n",
       "    </tr>\n",
       "  </thead>\n",
       "  <tbody>\n",
       "    <tr>\n",
       "      <th>0</th>\n",
       "      <td>1</td>\n",
       "      <td>Male</td>\n",
       "      <td>27</td>\n",
       "      <td>Software Engineer</td>\n",
       "      <td>6.1</td>\n",
       "      <td>6</td>\n",
       "      <td>42</td>\n",
       "      <td>6</td>\n",
       "      <td>Overweight</td>\n",
       "      <td>126/83</td>\n",
       "      <td>77</td>\n",
       "      <td>4200</td>\n",
       "      <td>NaN</td>\n",
       "    </tr>\n",
       "    <tr>\n",
       "      <th>1</th>\n",
       "      <td>2</td>\n",
       "      <td>Male</td>\n",
       "      <td>28</td>\n",
       "      <td>Doctor</td>\n",
       "      <td>6.2</td>\n",
       "      <td>6</td>\n",
       "      <td>60</td>\n",
       "      <td>8</td>\n",
       "      <td>Normal</td>\n",
       "      <td>125/80</td>\n",
       "      <td>75</td>\n",
       "      <td>10000</td>\n",
       "      <td>NaN</td>\n",
       "    </tr>\n",
       "    <tr>\n",
       "      <th>2</th>\n",
       "      <td>3</td>\n",
       "      <td>Male</td>\n",
       "      <td>28</td>\n",
       "      <td>Doctor</td>\n",
       "      <td>6.2</td>\n",
       "      <td>6</td>\n",
       "      <td>60</td>\n",
       "      <td>8</td>\n",
       "      <td>Normal</td>\n",
       "      <td>125/80</td>\n",
       "      <td>75</td>\n",
       "      <td>10000</td>\n",
       "      <td>NaN</td>\n",
       "    </tr>\n",
       "    <tr>\n",
       "      <th>3</th>\n",
       "      <td>4</td>\n",
       "      <td>Male</td>\n",
       "      <td>28</td>\n",
       "      <td>Sales Representative</td>\n",
       "      <td>5.9</td>\n",
       "      <td>4</td>\n",
       "      <td>30</td>\n",
       "      <td>8</td>\n",
       "      <td>Obese</td>\n",
       "      <td>140/90</td>\n",
       "      <td>85</td>\n",
       "      <td>3000</td>\n",
       "      <td>Sleep Apnea</td>\n",
       "    </tr>\n",
       "    <tr>\n",
       "      <th>4</th>\n",
       "      <td>5</td>\n",
       "      <td>Male</td>\n",
       "      <td>28</td>\n",
       "      <td>Sales Representative</td>\n",
       "      <td>5.9</td>\n",
       "      <td>4</td>\n",
       "      <td>30</td>\n",
       "      <td>8</td>\n",
       "      <td>Obese</td>\n",
       "      <td>140/90</td>\n",
       "      <td>85</td>\n",
       "      <td>3000</td>\n",
       "      <td>Sleep Apnea</td>\n",
       "    </tr>\n",
       "  </tbody>\n",
       "</table>\n",
       "</div>"
      ],
      "text/plain": [
       "   Person ID Gender  Age            Occupation  Sleep Duration  \\\n",
       "0          1   Male   27     Software Engineer             6.1   \n",
       "1          2   Male   28                Doctor             6.2   \n",
       "2          3   Male   28                Doctor             6.2   \n",
       "3          4   Male   28  Sales Representative             5.9   \n",
       "4          5   Male   28  Sales Representative             5.9   \n",
       "\n",
       "   Quality of Sleep  Physical Activity Level  Stress Level BMI Category  \\\n",
       "0                 6                       42             6   Overweight   \n",
       "1                 6                       60             8       Normal   \n",
       "2                 6                       60             8       Normal   \n",
       "3                 4                       30             8        Obese   \n",
       "4                 4                       30             8        Obese   \n",
       "\n",
       "  Blood Pressure  Heart Rate  Daily Steps Sleep Disorder  \n",
       "0         126/83          77         4200            NaN  \n",
       "1         125/80          75        10000            NaN  \n",
       "2         125/80          75        10000            NaN  \n",
       "3         140/90          85         3000    Sleep Apnea  \n",
       "4         140/90          85         3000    Sleep Apnea  "
      ]
     },
     "execution_count": 232,
     "metadata": {},
     "output_type": "execute_result"
    }
   ],
   "source": [
    "df = pd.read_csv('./Sleep_health_and_lifestyle_dataset.csv')\n",
    "df.head()"
   ]
  },
  {
   "cell_type": "code",
   "execution_count": 233,
   "metadata": {},
   "outputs": [
    {
     "name": "stdout",
     "output_type": "stream",
     "text": [
      "<class 'pandas.core.frame.DataFrame'>\n",
      "RangeIndex: 374 entries, 0 to 373\n",
      "Data columns (total 13 columns):\n",
      " #   Column                   Non-Null Count  Dtype  \n",
      "---  ------                   --------------  -----  \n",
      " 0   Person ID                374 non-null    int64  \n",
      " 1   Gender                   374 non-null    object \n",
      " 2   Age                      374 non-null    int64  \n",
      " 3   Occupation               374 non-null    object \n",
      " 4   Sleep Duration           374 non-null    float64\n",
      " 5   Quality of Sleep         374 non-null    int64  \n",
      " 6   Physical Activity Level  374 non-null    int64  \n",
      " 7   Stress Level             374 non-null    int64  \n",
      " 8   BMI Category             374 non-null    object \n",
      " 9   Blood Pressure           374 non-null    object \n",
      " 10  Heart Rate               374 non-null    int64  \n",
      " 11  Daily Steps              374 non-null    int64  \n",
      " 12  Sleep Disorder           155 non-null    object \n",
      "dtypes: float64(1), int64(7), object(5)\n",
      "memory usage: 38.1+ KB\n",
      "None\n"
     ]
    }
   ],
   "source": [
    "# Obtener información sobre el conjunto de datos\n",
    "print(df.info())"
   ]
  },
  {
   "cell_type": "code",
   "execution_count": 234,
   "metadata": {},
   "outputs": [
    {
     "name": "stdout",
     "output_type": "stream",
     "text": [
      "        Person ID         Age  Sleep Duration  Quality of Sleep  \\\n",
      "count  374.000000  374.000000      374.000000        374.000000   \n",
      "mean   187.500000   42.184492        7.132086          7.312834   \n",
      "std    108.108742    8.673133        0.795657          1.196956   \n",
      "min      1.000000   27.000000        5.800000          4.000000   \n",
      "25%     94.250000   35.250000        6.400000          6.000000   \n",
      "50%    187.500000   43.000000        7.200000          7.000000   \n",
      "75%    280.750000   50.000000        7.800000          8.000000   \n",
      "max    374.000000   59.000000        8.500000          9.000000   \n",
      "\n",
      "       Physical Activity Level  Stress Level  Heart Rate   Daily Steps  \n",
      "count               374.000000    374.000000  374.000000    374.000000  \n",
      "mean                 59.171123      5.385027   70.165775   6816.844920  \n",
      "std                  20.830804      1.774526    4.135676   1617.915679  \n",
      "min                  30.000000      3.000000   65.000000   3000.000000  \n",
      "25%                  45.000000      4.000000   68.000000   5600.000000  \n",
      "50%                  60.000000      5.000000   70.000000   7000.000000  \n",
      "75%                  75.000000      7.000000   72.000000   8000.000000  \n",
      "max                  90.000000      8.000000   86.000000  10000.000000  \n"
     ]
    }
   ],
   "source": [
    "# Resumen estadístico de las variables numéricas\n",
    "print(df.describe())"
   ]
  },
  {
   "cell_type": "code",
   "execution_count": 235,
   "metadata": {},
   "outputs": [
    {
     "name": "stdout",
     "output_type": "stream",
     "text": [
      "Person ID                    0\n",
      "Gender                       0\n",
      "Age                          0\n",
      "Occupation                   0\n",
      "Sleep Duration               0\n",
      "Quality of Sleep             0\n",
      "Physical Activity Level      0\n",
      "Stress Level                 0\n",
      "BMI Category                 0\n",
      "Blood Pressure               0\n",
      "Heart Rate                   0\n",
      "Daily Steps                  0\n",
      "Sleep Disorder             219\n",
      "dtype: int64\n"
     ]
    }
   ],
   "source": [
    "# Verificar si hay valores faltantes\n",
    "print(df.isnull().sum())"
   ]
  },
  {
   "cell_type": "code",
   "execution_count": 236,
   "metadata": {},
   "outputs": [],
   "source": [
    "# Manejo de valores faltantes en 'Sleep Disorder\n",
    "df['Sleep Disorder'] = df['Sleep Disorder'].fillna('None')\n",
    "\n",
    "# Elimino los datos que no aportan valor\n",
    "df.drop(columns=['Person ID'], inplace=True)\n",
    "df_clean = df.dropna()"
   ]
  },
  {
   "cell_type": "code",
   "execution_count": 237,
   "metadata": {},
   "outputs": [
    {
     "name": "stdout",
     "output_type": "stream",
     "text": [
      "['Male' 'Female']\n",
      "['Software Engineer' 'Doctor' 'Sales Representative' 'Teacher' 'Nurse'\n",
      " 'Engineer' 'Accountant' 'Scientist' 'Lawyer' 'Salesperson' 'Manager']\n",
      "['Overweight' 'Normal' 'Obese' 'Normal Weight']\n",
      "['None' 'Sleep Apnea' 'Insomnia']\n"
     ]
    }
   ],
   "source": [
    "# Verificar valores únicos en columnas categóricas\n",
    "print(df_clean['Gender'].unique())\n",
    "print(df_clean['Occupation'].unique())\n",
    "print(df_clean['BMI Category'].unique())\n",
    "print(df_clean['Sleep Disorder'].unique())"
   ]
  },
  {
   "cell_type": "code",
   "execution_count": 238,
   "metadata": {},
   "outputs": [],
   "source": [
    "# Dividir la columna 'Blood Pressure' en presión sistólica y diastólica\n",
    "df_clean[['Systolic Pressure', 'Diastolic Pressure']] = df_clean['Blood Pressure'].str.split('/', expand=True)\n",
    "\n",
    "# Convertir las nuevas columnas a tipo numérico\n",
    "df_clean['Systolic Pressure'] = pd.to_numeric(df_clean['Systolic Pressure'])\n",
    "df_clean['Diastolic Pressure'] = pd.to_numeric(df_clean['Diastolic Pressure'])\n",
    "\n",
    "# Eliminar la columna original 'Blood Pressure'\n",
    "df_clean.drop('Blood Pressure', axis=1, inplace=True)"
   ]
  },
  {
   "cell_type": "code",
   "execution_count": 239,
   "metadata": {},
   "outputs": [
    {
     "name": "stdout",
     "output_type": "stream",
     "text": [
      "   Gender  Age  Occupation  Sleep Duration  Quality of Sleep  \\\n",
      "0       1   27           9             6.1                 6   \n",
      "1       1   28           1             6.2                 6   \n",
      "2       1   28           1             6.2                 6   \n",
      "3       1   28           6             5.9                 4   \n",
      "4       1   28           6             5.9                 4   \n",
      "\n",
      "   Physical Activity Level  Stress Level  BMI Category  Heart Rate  \\\n",
      "0                       42             6             3          77   \n",
      "1                       60             8             0          75   \n",
      "2                       60             8             0          75   \n",
      "3                       30             8             2          85   \n",
      "4                       30             8             2          85   \n",
      "\n",
      "   Daily Steps  Sleep Disorder  Systolic Pressure  Diastolic Pressure  \n",
      "0         4200               1                126                  83  \n",
      "1        10000               1                125                  80  \n",
      "2        10000               1                125                  80  \n",
      "3         3000               2                140                  90  \n",
      "4         3000               2                140                  90  \n"
     ]
    }
   ],
   "source": [
    "categorical_columns = ['Gender', 'Occupation', 'BMI Category', 'Sleep Disorder']\n",
    "\n",
    "# Iterar sobre cada columna categórica y aplicar el Label Encoding\n",
    "label_encoder = LabelEncoder()\n",
    "for column in categorical_columns:\n",
    "    df_clean[column] = label_encoder.fit_transform(df_clean[column])\n",
    "\n",
    "\n",
    "# Verificar los cambios\n",
    "print(df_clean.head())"
   ]
  },
  {
   "cell_type": "markdown",
   "metadata": {},
   "source": [
    "**2. Separamos los datos en test y entrenamiento**"
   ]
  },
  {
   "cell_type": "code",
   "execution_count": 240,
   "metadata": {},
   "outputs": [
    {
     "name": "stdout",
     "output_type": "stream",
     "text": [
      "Forma de X_train: (299, 12)\n",
      "Forma de X_test: (75, 12)\n",
      "Forma de y_train: (299,)\n",
      "Forma de y_test: (75,)\n"
     ]
    }
   ],
   "source": [
    "# Dividir el conjunto de datos en características (X) y la variable objetivo (y)\n",
    "X = df_clean.drop('Stress Level', axis=1)  # Características\n",
    "y = df_clean['Stress Level']  # Variable objetivo\n",
    "\n",
    "# Dividir los datos en conjuntos de entrenamiento y prueba (80% para entrenamiento, 20% para prueba)\n",
    "X_train, X_test, y_train, y_test = train_test_split(X, y, test_size=0.2, random_state=42)\n",
    "\n",
    "# Verificar las formas de los conjuntos de datos resultantes\n",
    "print(\"Forma de X_train:\", X_train.shape)\n",
    "print(\"Forma de X_test:\", X_test.shape)\n",
    "print(\"Forma de y_train:\", y_train.shape)\n",
    "print(\"Forma de y_test:\", y_test.shape)\n"
   ]
  },
  {
   "cell_type": "markdown",
   "metadata": {},
   "source": [
    "**3. Creamos el modelo**"
   ]
  },
  {
   "cell_type": "code",
   "execution_count": 241,
   "metadata": {},
   "outputs": [
    {
     "name": "stdout",
     "output_type": "stream",
     "text": [
      "Error cuadrático medio (MSE): 0.03074399999999999\n",
      "Coeficiente de determinación (R^2): 0.9901596107886651\n"
     ]
    }
   ],
   "source": [
    "# Inicializar el modelo de Bosque Aleatorio\n",
    "random_forest = RandomForestRegressor(n_estimators=100, random_state=42)\n",
    "\n",
    "# Entrenar el modelo\n",
    "random_forest.fit(X_train, y_train)\n",
    "\n",
    "# Predecir el nivel de estrés en el conjunto de prueba\n",
    "y_pred = random_forest.predict(X_test)\n",
    "\n",
    "# Evaluar el rendimiento del modelo\n",
    "mse = mean_squared_error(y_test, y_pred)\n",
    "r2 = r2_score(y_test, y_pred)\n",
    "\n",
    "print(\"Error cuadrático medio (MSE):\", mse)\n",
    "print(\"Coeficiente de determinación (R^2):\", r2)"
   ]
  },
  {
   "cell_type": "markdown",
   "metadata": {},
   "source": [
    "**4. Probamos el modelo**"
   ]
  },
  {
   "cell_type": "code",
   "execution_count": 242,
   "metadata": {},
   "outputs": [
    {
     "name": "stdout",
     "output_type": "stream",
     "text": [
      "El nivel de estrés predicho para el ejemplo seleccionado es: 7.0\n"
     ]
    }
   ],
   "source": [
    "# Seleccionar un ejemplo del conjunto de datos\n",
    "example_index = 5  # Por ejemplo, seleccionamos el primer ejemplo\n",
    "example = X_test.iloc[[example_index]]  # Seleccionamos el ejemplo del conjunto de prueba\n",
    "\n",
    "# Predecir el nivel de estrés para el ejemplo seleccionado\n",
    "predicted_stress_level = random_forest.predict(example)\n",
    "\n",
    "# Imprimir la predicción\n",
    "print(\"El nivel de estrés predicho para el ejemplo seleccionado es:\", predicted_stress_level[0])\n"
   ]
  },
  {
   "cell_type": "markdown",
   "metadata": {},
   "source": [
    "**5. Determinamos que variables aportan son mas importantes para predecir el nivel de estres**"
   ]
  },
  {
   "cell_type": "code",
   "execution_count": 243,
   "metadata": {},
   "outputs": [
    {
     "name": "stdout",
     "output_type": "stream",
     "text": [
      "Variables más importantes para predecir el nivel de estrés:\n",
      "                    Feature  Importance\n",
      "4          Quality of Sleep    0.734901\n",
      "7                Heart Rate    0.123631\n",
      "3            Sleep Duration    0.074013\n",
      "8               Daily Steps    0.016375\n",
      "2                Occupation    0.014493\n",
      "5   Physical Activity Level    0.012852\n",
      "1                       Age    0.010325\n",
      "0                    Gender    0.006837\n",
      "10        Systolic Pressure    0.002598\n",
      "11       Diastolic Pressure    0.001875\n",
      "6              BMI Category    0.001213\n",
      "9            Sleep Disorder    0.000888\n"
     ]
    }
   ],
   "source": [
    "# Obtener la importancia de las características del modelo de Bosque Aleatorio\n",
    "feature_importances = random_forest.feature_importances_\n",
    "\n",
    "# Crear un DataFrame para visualizar las importancias de las características\n",
    "feature_importance_df = pd.DataFrame({'Feature': X_train.columns, 'Importance': feature_importances})\n",
    "\n",
    "# Ordenar el DataFrame por importancia en orden descendente\n",
    "feature_importance_df = feature_importance_df.sort_values(by='Importance', ascending=False)\n",
    "\n",
    "# Imprimir las características más importantes\n",
    "print(\"Variables más importantes para predecir el nivel de estrés:\")\n",
    "print(feature_importance_df)\n"
   ]
  },
  {
   "cell_type": "markdown",
   "metadata": {},
   "source": [
    "**6. Clasificamos los resultados**"
   ]
  },
  {
   "cell_type": "code",
   "execution_count": 244,
   "metadata": {},
   "outputs": [
    {
     "name": "stdout",
     "output_type": "stream",
     "text": [
      "Resultados del algoritmo clasificados en las 3 categorías:\n",
      "['No estresado', 'Extremadamente estresado', 'Extremadamente estresado', 'No estresado', 'Extremadamente estresado', 'Extremadamente estresado', 'Extremadamente estresado', 'Estresado', 'No estresado', 'Estresado', 'Extremadamente estresado', 'Estresado', 'Estresado', 'Extremadamente estresado', 'Estresado', 'Extremadamente estresado', 'Extremadamente estresado', 'Extremadamente estresado', 'No estresado', 'Estresado', 'Estresado', 'Estresado', 'Extremadamente estresado', 'Estresado', 'Estresado', 'Estresado', 'Extremadamente estresado', 'Extremadamente estresado', 'Extremadamente estresado', 'No estresado', 'Estresado', 'Estresado', 'Estresado', 'No estresado', 'Extremadamente estresado', 'Estresado', 'Extremadamente estresado', 'Estresado', 'Estresado', 'Estresado', 'Extremadamente estresado', 'Extremadamente estresado', 'Extremadamente estresado', 'Extremadamente estresado', 'Estresado', 'Estresado', 'Estresado', 'Estresado', 'Extremadamente estresado', 'Estresado', 'No estresado', 'Estresado', 'Extremadamente estresado', 'Estresado', 'Estresado', 'No estresado', 'Estresado', 'Extremadamente estresado', 'No estresado', 'Extremadamente estresado', 'Estresado', 'Extremadamente estresado', 'Extremadamente estresado', 'Estresado', 'Estresado', 'Extremadamente estresado', 'Extremadamente estresado', 'No estresado', 'Estresado', 'Estresado', 'Estresado', 'Extremadamente estresado', 'No estresado', 'Extremadamente estresado', 'No estresado']\n"
     ]
    }
   ],
   "source": [
    "# Definir la función para clasificar las predicciones en las categorías deseadas\n",
    "def classify_stress_level(prediction):\n",
    "    if prediction <= 3:\n",
    "        return \"No estresado\"\n",
    "    elif prediction <= 6:\n",
    "        return \"Estresado\"\n",
    "    else:\n",
    "        return \"Extremadamente estresado\"\n",
    "\n",
    "# Aplicar la función de clasificación a las predicciones del modelo\n",
    "classified_predictions = [classify_stress_level(pred) for pred in y_pred]\n",
    "\n",
    "# Imprimir las predicciones clasificadas\n",
    "print(\"Resultados del algoritmo clasificados en las 3 categorías:\")\n",
    "print(classified_predictions)\n"
   ]
  },
  {
   "cell_type": "markdown",
   "metadata": {},
   "source": [
    "**7. Conclusiones**\n",
    "\n",
    "En conclusión, si bien el conjunto de datos proporcionado incluye una variedad de características relevantes, es probable que no capture toda la complejidad del fenómeno del estrés. Por lo tanto, aunque el algoritmo podría proporcionar cierta capacidad para detectar el estrés de las personas, es posible que no sea completamente preciso o generalizable en todas las situaciones. Sería beneficioso considerar la adición de más características relevantes y la recopilación de datos adicionales para mejorar la capacidad del algoritmo para detectar el estrés de manera más precisa."
   ]
  }
 ],
 "metadata": {
  "kernelspec": {
   "display_name": "Python 3",
   "language": "python",
   "name": "python3"
  },
  "language_info": {
   "codemirror_mode": {
    "name": "ipython",
    "version": 3
   },
   "file_extension": ".py",
   "mimetype": "text/x-python",
   "name": "python",
   "nbconvert_exporter": "python",
   "pygments_lexer": "ipython3",
   "version": "3.11.7"
  }
 },
 "nbformat": 4,
 "nbformat_minor": 2
}
