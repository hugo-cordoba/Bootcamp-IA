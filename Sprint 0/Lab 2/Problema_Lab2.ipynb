{
 "cells": [
  {
   "cell_type": "code",
   "execution_count": 67,
   "metadata": {},
   "outputs": [],
   "source": [
    "# Importación de librerías necesarias\n",
    "\n",
    "import pandas as pd\n",
    "import numpy as np"
   ]
  },
  {
   "cell_type": "markdown",
   "metadata": {},
   "source": [
    "### Helados por sabor"
   ]
  },
  {
   "cell_type": "markdown",
   "metadata": {},
   "source": [
    "La empresa _Ice Cream Avenue_ desea realizar un seguimiento de los sabores de helado más populares para un cliente. \n",
    "Se te proporciona una lista de pedidos, donde cada pedido es una lista con tuplas con el sabor del helado y la cantidad solicitada. \n",
    "* En el primer pedido se piden 3 helados de chocolate, 2 de vainilla y 4 de fresa\n",
    "* En el segundo pedido se pide 1 helado de chocolate, 2 de yogur y 3 de fresa\n",
    "* En el tercer pedido se piden 2 helados de yogur y 2 de mango\n",
    "\n",
    "Concatena las listas, y escribe una función que, en base a esa lista total, genere un diccionario que muestre la cantidad total de helados pedidos para cada sabor."
   ]
  },
  {
   "cell_type": "code",
   "execution_count": 68,
   "metadata": {},
   "outputs": [
    {
     "name": "stdout",
     "output_type": "stream",
     "text": [
      "El número total de helados es: {'chocolate': 4, 'vainilla': 2, 'fresa': 7, 'yogur': 4, 'mango': 2}\n"
     ]
    }
   ],
   "source": [
    "# Lista de tuplas de los pedidos\n",
    "pedido1 = [('chocolate', 3), ('vainilla', 2), ('fresa', 4)]\n",
    "pedido2 = [('chocolate', 1), ('yogur', 2), ('fresa', 3)]\n",
    "pedido3 = [('yogur', 2), ('mango', 2)]\n",
    "\n",
    "# Suma tuplas en una misma lista y creación de un diccionario vacío\n",
    "pedidos_totales = pedido1 + pedido2 + pedido3\n",
    "sabores = {}\n",
    "\n",
    "# Función que recibe una lista de tuplas de helados y genera un diccionario\n",
    "# que calcula la cantidad total de helados separados por sabor\n",
    "def contar_helados(pedidos_totales):\n",
    "    for helado in pedidos_totales:\n",
    "        sabor, cantidad= helado\n",
    "        if sabor not in sabores:\n",
    "            sabores[sabor] = cantidad\n",
    "        else:\n",
    "            sabores[sabor] += cantidad\n",
    "    return sabores\n",
    "\n",
    "# Llamada a la función que calcula el diccionario\n",
    "total_helados = contar_helados(pedidos_totales)\n",
    "print(f'El número total de helados es: {total_helados}')"
   ]
  },
  {
   "cell_type": "markdown",
   "metadata": {},
   "source": [
    "### Descuentos en helados "
   ]
  },
  {
   "cell_type": "markdown",
   "metadata": {},
   "source": [
    "Partiendo de los sabores del ejercicio anterior, generar una lista de precios, donde el precio de cada sabor sea 0.2€ por cada letra que contenga, y con un descuento del 20% para los helados cuyo nombre empiece con la letra \"c\"."
   ]
  },
  {
   "cell_type": "code",
   "execution_count": 69,
   "metadata": {},
   "outputs": [
    {
     "name": "stdout",
     "output_type": "stream",
     "text": [
      "[('chocolate', 1.44), ('vainilla', 1.6), ('fresa', 1.0), ('yogur', 1.0), ('mango', 1.0)]\n"
     ]
    }
   ],
   "source": [
    "# Lista de sabores de los helados\n",
    "lista_sabores = ['chocolate', 'vainilla', 'fresa', 'yogur', 'mango']\n",
    "\n",
    "# Función que recibe una lista de sabores y genera una lista de precios\n",
    "def calcular_precio(sabor):\n",
    "    precio_base = 0.2 * len(sabor)\n",
    "\n",
    "    if sabor.startswith('c'):\n",
    "        precio_base -= precio_base * 0.2\n",
    "    return sabor, precio_base\n",
    "\n",
    "# Llamada a la función que calcula los precios de cada sabor\n",
    "precios = [calcular_precio(sabor) for sabor in lista_sabores]\n",
    "print(precios)\n"
   ]
  },
  {
   "cell_type": "markdown",
   "metadata": {},
   "source": [
    "### El helado más caro"
   ]
  },
  {
   "cell_type": "markdown",
   "metadata": {},
   "source": [
    "A partir del diccionario del ejercicio anterior con precios de helados y un presupuesto dado, crea una función que devuelva el helado más caro cubierto por el presupuesto.\n",
    "\n",
    "Resuélvelo primero con python base, y después utilizando Series de pandas"
   ]
  },
  {
   "cell_type": "code",
   "execution_count": 70,
   "metadata": {},
   "outputs": [
    {
     "name": "stdout",
     "output_type": "stream",
     "text": [
      "Python base:\n",
      "Helado más caro que puedo comprar es el del sabor chocolate, a un precio de: 1.44€\n",
      "\n",
      "Series de pandas:\n",
      "Helado más caro que puedo comprar es el del sabor chocolate, a un precio de: 1.44€\n"
     ]
    }
   ],
   "source": [
    "# 1. Python base\n",
    "\n",
    "# Lista de precios y presupuesto\n",
    "precio_helados = {'chocolate': 1.44, 'vainilla': 1.6, 'fresa': 1.0, 'yogur': 1.0, 'mango': 1.0}\n",
    "presupuesto = 1.55\n",
    "\n",
    "# Función que recibe un diccionario de precios y un presupuesto y devuelve\n",
    "# el helado más caro cubierto por el presupuesto\n",
    "def helado_caro(precio_helados, presupuesto):\n",
    "    helado_mas_caro = max((precio, helado) for helado, precio in precio_helados.items() if precio <= presupuesto)\n",
    "    return helado_mas_caro\n",
    "\n",
    "#Llamada a la función que calcula el helado más caro cubierto por\n",
    "# el presupuesto\n",
    "precio, helado = helado_caro(precio_helados, presupuesto)\n",
    "print('Python base:')\n",
    "print(f'Helado más caro que puedo comprar es el del sabor {helado}, a un precio de: {precio}€\\n')\n",
    "\n",
    "\n",
    "# 2. Series de pandas\n",
    "\n",
    "# Convertir el diccionario de precios a una serie de pandas\n",
    "precios_series = pd.Series(precio_helados)\n",
    "\n",
    "def helado_caro(precios_series, presupuesto):\n",
    "    # Filtrar los helados cuyo precio sea menor o igual al presupuesto\n",
    "    helados_disponibles = precios_series[precios_series <= presupuesto]\n",
    "    \n",
    "# Encontrar el helado más caro entre los disponibles\n",
    "    helado_mas_caro = helados_disponibles.idxmax()\n",
    "    precio_mas_caro = helados_disponibles.max()\n",
    "    \n",
    "    return helado_mas_caro, precio_mas_caro\n",
    "\n",
    "helado, precio = helado_caro(precios_series, presupuesto)\n",
    "print('Series de pandas:')\n",
    "print(f'Helado más caro que puedo comprar es el del sabor {helado}, a un precio de: {precio}€')"
   ]
  },
  {
   "cell_type": "markdown",
   "metadata": {},
   "source": [
    "### Ventas aleatorias"
   ]
  },
  {
   "cell_type": "markdown",
   "metadata": {},
   "source": [
    "Crea un array bidimensional en numpy donde la dimensión de filas sea el número de tiendas (5) y las columnas los días de la semana. Los datos deben obtenerse a partir de una distribución aleatoria de números enteros, que puede ir desde 0 hasta 100 (sin incluir). Asegúrate de que el ejemplo sea reproducible, fijando como semilla el número 42"
   ]
  },
  {
   "cell_type": "code",
   "execution_count": 71,
   "metadata": {},
   "outputs": [
    {
     "name": "stdout",
     "output_type": "stream",
     "text": [
      "Array bidimensional de ventas:\n",
      "[[52 93 15 72 61 21 83]\n",
      " [87 75 75 88 24  3 22]\n",
      " [53  2 88 30 38  2 64]\n",
      " [60 21 33 76 58 22 89]\n",
      " [49 91 59 42 92 60 80]]\n"
     ]
    }
   ],
   "source": [
    "# Fijar la semilla para que el ejemplo sea reproducible\n",
    "np.random.seed(42)\n",
    "\n",
    "# Array bidimensional de 5 filas (tiendas) y 7 columnas (días de la semana)\n",
    "datos = np.random.randint(1, 99, size=(5, 7))\n",
    "\n",
    "print(\"Array bidimensional de ventas:\")\n",
    "print(datos)\n"
   ]
  },
  {
   "cell_type": "markdown",
   "metadata": {},
   "source": [
    "### Llegando a 200 ventas"
   ]
  },
  {
   "cell_type": "markdown",
   "metadata": {},
   "source": [
    "Calcula el dia de la semana en que cada tienda alcanza las 200 ventas acumuladas a lo largo de la semana"
   ]
  },
  {
   "cell_type": "code",
   "execution_count": 72,
   "metadata": {},
   "outputs": [
    {
     "name": "stdout",
     "output_type": "stream",
     "text": [
      "[[ 52 145 160 232 293 314 397]\n",
      " [ 87 162 237 325 349 352 374]\n",
      " [ 53  55 143 173 211 213 277]\n",
      " [ 60  81 114 190 248 270 359]\n",
      " [ 49 140 199 241 333 393 473]]\n",
      "\n",
      "Día de la semana en que cada tienda alcanza las 200 ventas acumuladas:\n",
      "[3 2 4 4 3]\n"
     ]
    }
   ],
   "source": [
    "# Calcular la suma acumulativa a lo largo de los días de la semana para cada tienda\n",
    "ventas_acumuladas = np.cumsum(datos, axis=1)\n",
    "\n",
    "# Ahora el array quedaría así\n",
    "print(ventas_acumuladas)\n",
    "\n",
    "# Encontrar el primer día en el que se alcanzan o superan las 200 ventas acumuladas\n",
    "dias_alcanzados = np.argmax(ventas_acumuladas >= 200, axis=1)\n",
    "\n",
    "# argmax tiene en cuenta el primer día como 0, por ello, el día 3\n",
    "# corresponde al jueves, el día 4 corresponde al viernes, etc.\n",
    "print(\"\\nDía de la semana en que cada tienda alcanza las 200 ventas acumuladas:\")\n",
    "print(dias_alcanzados)\n"
   ]
  },
  {
   "cell_type": "markdown",
   "metadata": {},
   "source": [
    "### Beneficio positivo"
   ]
  },
  {
   "cell_type": "markdown",
   "metadata": {},
   "source": [
    "Crea otro array con la misma forma que el de ventas que se llame costes, y el valor constante 40. Resta ambos arrays para obtener un array que se llame beneficio, y calcula el beneficio sumado de las tiendas que tengan beneficio total positivo."
   ]
  },
  {
   "cell_type": "code",
   "execution_count": 73,
   "metadata": {},
   "outputs": [
    {
     "name": "stdout",
     "output_type": "stream",
     "text": [
      "Array con resultados, despúes de costes:\n",
      "[[ 12  53 -25  32  21 -19  43]\n",
      " [ 47  35  35  48 -16 -37 -18]\n",
      " [ 13 -38  48 -10  -2 -38  24]\n",
      " [ 20 -19  -7  36  18 -18  49]\n",
      " [  9  51  19   2  52  20  40]]\n",
      "\n",
      "Beneficio total de las tiendas con beneficio total positivo: 483\n"
     ]
    }
   ],
   "source": [
    "# Crear un array de costes con la misma forma que el array de ventas\n",
    "costes = np.full_like(datos, 40)\n",
    "\n",
    "# Calcular el array de beneficio restando los costes de las ventas\n",
    "beneficio = datos - costes\n",
    "\n",
    "# Encontrar las tiendas con beneficio total positivo\n",
    "tiendas_con_beneficio_positivo = beneficio.sum(axis=1) > 0\n",
    "\n",
    "# Calcular la suma de los beneficios de las tiendas con beneficio total positivo\n",
    "beneficio_total_positivo = beneficio[tiendas_con_beneficio_positivo].sum()\n",
    "\n",
    "print(f'Array con resultados, despúes de costes:\\n{beneficio}\\n')\n",
    "print(\"Beneficio total de las tiendas con beneficio total positivo:\", beneficio_total_positivo)"
   ]
  },
  {
   "cell_type": "markdown",
   "metadata": {},
   "source": [
    "### Lectura de fichero"
   ]
  },
  {
   "cell_type": "markdown",
   "metadata": {},
   "source": [
    "Lee el fichero de ventas_por_helado y haz una exploración rápida del DataFrame"
   ]
  },
  {
   "cell_type": "code",
   "execution_count": 74,
   "metadata": {},
   "outputs": [
    {
     "name": "stdout",
     "output_type": "stream",
     "text": [
      "Primeras filas del DataFrame:\n",
      "   id_producto  ventas_unidades    precio\n",
      "0           17           998119  1.493301\n",
      "1          101            27127  3.848544\n",
      "2          240           202538  2.406505\n",
      "3          402           266723  2.989612\n",
      "4          999            20468  1.859808\n"
     ]
    }
   ],
   "source": [
    "# Lee el archivo CSV\n",
    "df = pd.read_csv('ventas_por_helado.csv')\n",
    "\n",
    "# Muestra las primeras filas del DataFrame\n",
    "print(\"Primeras filas del DataFrame:\")\n",
    "print(df.head())\n"
   ]
  },
  {
   "cell_type": "code",
   "execution_count": 75,
   "metadata": {},
   "outputs": [
    {
     "name": "stdout",
     "output_type": "stream",
     "text": [
      "\n",
      "Información del DataFrame:\n",
      "<class 'pandas.core.frame.DataFrame'>\n",
      "RangeIndex: 16 entries, 0 to 15\n",
      "Data columns (total 3 columns):\n",
      " #   Column           Non-Null Count  Dtype  \n",
      "---  ------           --------------  -----  \n",
      " 0   id_producto      16 non-null     int64  \n",
      " 1   ventas_unidades  16 non-null     int64  \n",
      " 2   precio           16 non-null     float64\n",
      "dtypes: float64(1), int64(2)\n",
      "memory usage: 516.0 bytes\n",
      "None\n"
     ]
    }
   ],
   "source": [
    "# Muestra información básica del DataFrame\n",
    "print(\"\\nInformación del DataFrame:\")\n",
    "print(df.info())"
   ]
  },
  {
   "cell_type": "code",
   "execution_count": 76,
   "metadata": {},
   "outputs": [
    {
     "name": "stdout",
     "output_type": "stream",
     "text": [
      "\n",
      "Estadísticas descriptivas del DataFrame:\n",
      "       id_producto  ventas_unidades     precio\n",
      "count    16.000000         16.00000  16.000000\n",
      "mean   3962.500000     240504.25000   2.899529\n",
      "std    3061.347634     304497.61091   1.031506\n",
      "min      17.000000       4051.00000   1.493301\n",
      "25%     849.750000      25462.25000   2.392031\n",
      "50%    4522.500000      96458.50000   2.528107\n",
      "75%    5894.250000     312294.00000   3.171675\n",
      "max    9134.000000     998119.00000   5.158462\n"
     ]
    }
   ],
   "source": [
    "# Muestra estadísticas descriptivas del DataFrame\n",
    "print(\"\\nEstadísticas descriptivas del DataFrame:\")\n",
    "print(df.describe())"
   ]
  },
  {
   "cell_type": "code",
   "execution_count": 77,
   "metadata": {},
   "outputs": [
    {
     "name": "stdout",
     "output_type": "stream",
     "text": [
      "\n",
      "Nombres de las columnas del DataFrame:\n",
      "Index(['id_producto', 'ventas_unidades', 'precio'], dtype='object')\n"
     ]
    }
   ],
   "source": [
    "# Muestra los nombres de las columnas del DataFrame\n",
    "print(\"\\nNombres de las columnas del DataFrame:\")\n",
    "print(df.columns)"
   ]
  },
  {
   "cell_type": "code",
   "execution_count": 78,
   "metadata": {},
   "outputs": [
    {
     "name": "stdout",
     "output_type": "stream",
     "text": [
      "\n",
      "Cantidad de filas y columnas del DataFrame:\n",
      "(16, 3)\n"
     ]
    }
   ],
   "source": [
    "# Muestra la cantidad de filas y columnas del DataFrame\n",
    "print(\"\\nCantidad de filas y columnas del DataFrame:\")\n",
    "print(df.shape)"
   ]
  },
  {
   "cell_type": "markdown",
   "metadata": {},
   "source": [
    "### Productos con mucha venta"
   ]
  },
  {
   "cell_type": "markdown",
   "metadata": {},
   "source": [
    "Calcula el número de productos con más de 20000 euros en ventas"
   ]
  },
  {
   "cell_type": "code",
   "execution_count": 101,
   "metadata": {},
   "outputs": [
    {
     "name": "stdout",
     "output_type": "stream",
     "text": [
      "Este sería el total de productos con más de 20000 euros en ventas:\n",
      "    id_producto  ventas_unidades    precio\n",
      "0            17           998119  1.493301\n",
      "1           101            27127  3.848544\n",
      "2           240           202538  2.406505\n",
      "3           402           266723  2.989612\n",
      "4           999            20468  1.859808\n",
      "5          2033           209155  2.489806\n",
      "6          3636            32070  2.601165\n",
      "8          4577           130704  5.158462\n",
      "9          4758           449007  5.031154\n",
      "11         5684            45269  3.717864\n",
      "12         6525            62213  2.357885\n",
      "14         8689           689257  2.552039\n",
      "15         9134           679493  2.391456\n",
      "\n",
      "Número total de productos con más de 20000 euros en ventas: 13\n"
     ]
    }
   ],
   "source": [
    "# Selecciona las filas donde las ventas son mayores que 20000 euros\n",
    "productos_mas_20000 = df[df['ventas_unidades'] > 20000]\n",
    "\n",
    "# Calcula el número de productos con más de 20000 euros en ventas\n",
    "numero_productos_mas_20000 = productos_mas_20000.shape[0]\n",
    "\n",
    "\n",
    "print(f'Este sería el total de productos con más de 20000 euros en ventas:\\n{productos_mas_20000}\\n')\n",
    "print(\"Número total de productos con más de 20000 euros en ventas:\", numero_productos_mas_20000)"
   ]
  }
 ],
 "metadata": {
  "kernelspec": {
   "display_name": "Python 3",
   "language": "python",
   "name": "python3"
  },
  "language_info": {
   "codemirror_mode": {
    "name": "ipython",
    "version": 3
   },
   "file_extension": ".py",
   "mimetype": "text/x-python",
   "name": "python",
   "nbconvert_exporter": "python",
   "pygments_lexer": "ipython3",
   "version": "3.11.8"
  }
 },
 "nbformat": 4,
 "nbformat_minor": 2
}
