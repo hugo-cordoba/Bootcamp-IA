{
 "cells": [
  {
   "cell_type": "markdown",
   "metadata": {},
   "source": [
    "### Bienvenido a IceCream Avenue"
   ]
  },
  {
   "cell_type": "markdown",
   "metadata": {},
   "source": [
    "Bienvenido a _Ice Cream Avenue_. Comenzarás tu prueba aquí calculando los precios de los helados. Si el cono vale 0.5€, ,la bola de helado vale 2€, y cada topping 0.25€, calcula el precio de un helado de cono con 2 bolas y 3 toppings. Para ello, define variables en Python y aplica operaciones numéricas entre ellas"
   ]
  },
  {
   "cell_type": "code",
   "execution_count": 1,
   "metadata": {},
   "outputs": [
    {
     "name": "stdout",
     "output_type": "stream",
     "text": [
      "El precio de un helado de cono con 2 bolas y 3 toppings es de 5.25€\n"
     ]
    }
   ],
   "source": [
    "# precios unitarios\n",
    "cono = 0.5\n",
    "bola_helado = 2.0\n",
    "topping = 0.25\n",
    "\n",
    "# cantidades de cada ingrediente\n",
    "uds_bolas = 2\n",
    "uds_toppings = 3\n",
    "\n",
    "precio_de_helado = cono + bola_helado * uds_bolas + topping * uds_toppings\n",
    "print('El precio de un helado de cono con 2 bolas y 3 toppings es de {:.2f}€'.format(precio_de_helado))"
   ]
  },
  {
   "cell_type": "markdown",
   "metadata": {},
   "source": [
    "### Reemplazar caracteres"
   ]
  },
  {
   "cell_type": "markdown",
   "metadata": {},
   "source": [
    "_Ice Cream Avenue_ ha cambiado su logotipo y ahora quiere que todos los nombres de los helados empiecen por mayúscula y que las \"o\" se reemplacen por \"0\". Escribe un programa que reciba el nombre de un helado y devuelva el nombre modificado."
   ]
  },
  {
   "cell_type": "code",
   "execution_count": 2,
   "metadata": {},
   "outputs": [
    {
     "name": "stdout",
     "output_type": "stream",
     "text": [
      "Ch0c0b0m\n"
     ]
    }
   ],
   "source": [
    "# Recibir el nombre de un helado por la consola\n",
    "helado = input(\"Por favor, escribe el nombre de un helado: \")\n",
    "\n",
    "# Convertir la primera letra a mayúscula\n",
    "helado = helado.capitalize()\n",
    "\n",
    "# Reemplazar \"o\" por \"0\"\n",
    "helado = helado.replace(\"o\", \"0\")\n",
    "\n",
    "# Imprimir el nombre del helado modificado\n",
    "print(helado)\n"
   ]
  },
  {
   "cell_type": "markdown",
   "metadata": {
    "ExecuteTime": {
     "end_time": "2023-04-28T18:24:39.243559Z",
     "start_time": "2023-04-28T18:24:39.219559Z"
    }
   },
   "source": [
    "### Al revés"
   ]
  },
  {
   "cell_type": "markdown",
   "metadata": {
    "ExecuteTime": {
     "end_time": "2023-04-28T18:24:39.243559Z",
     "start_time": "2023-04-28T18:24:39.219559Z"
    }
   },
   "source": [
    "Por alguna extraña estrategia de marketing, _Ice Cream Avenue_ quiere escribir el nombre de sus helados al revés. Escribe un programa que reciba el nombre de un helado y lo imprima al revés."
   ]
  },
  {
   "cell_type": "code",
   "execution_count": 3,
   "metadata": {},
   "outputs": [
    {
     "name": "stdout",
     "output_type": "stream",
     "text": [
      "mobohcohc\n"
     ]
    }
   ],
   "source": [
    "# Recibir el nombre de un helado por la consola\n",
    "helado = input(\"Por favor, escribe el nombre de un helado: \")\n",
    "\n",
    "# Revertir el nombre del helado\n",
    "helado = helado[::-1]\n",
    "\n",
    "# Imprimir el nombre del helado modificado\n",
    "print(helado)"
   ]
  },
  {
   "cell_type": "markdown",
   "metadata": {},
   "source": [
    "### Contar vocales"
   ]
  },
  {
   "cell_type": "markdown",
   "metadata": {},
   "source": [
    "_Ice Cream Avenue_ quiere saber cuántas vocales hay en el nombre de cada helado para colorearlas en sus carteles. Escribe una función llamada contar_vocales que reciba un parámetro: el nombre de un helado, y que devuelva el número de vocales que contiene."
   ]
  },
  {
   "cell_type": "code",
   "execution_count": 4,
   "metadata": {},
   "outputs": [
    {
     "name": "stdout",
     "output_type": "stream",
     "text": [
      "El número total de vocales en el helado chochauei es: 5\n"
     ]
    }
   ],
   "source": [
    "# Recibir el nombre de un helado por la consola\n",
    "helado = input(\"Por favor, escribe el nombre de un helado: \")\n",
    "\n",
    "# Función llamada contar_vocales que reciba por parámetro el nombre de\n",
    "# un helado y que devuelva el número de vocales que tiene\n",
    "def contar_vocales(helado):\n",
    "    vowels = \"aeiouAEIOU\"\n",
    "    count = sum(helado.count(vowel) for vowel in vowels)\n",
    "    return count\n",
    "\n",
    "# Llamada a la función\n",
    "count = contar_vocales(helado)\n",
    "\n",
    "print(f'El número total de vocales en el helado {helado} es: {count}')"
   ]
  },
  {
   "cell_type": "markdown",
   "metadata": {},
   "source": [
    "### Descuento por cantidad de productos"
   ]
  },
  {
   "cell_type": "markdown",
   "metadata": {},
   "source": [
    "En _Ice Cream Avenue_ se quiere implementar una política de descuentos para sus clientes. Si un cliente compra más de 5 helados, se le aplicará un descuento del 20% en el total de la compra, y si compra entre 3 y 5 helados, el descuento aplicado será del 10%. Si compra menos de 3 helados, no se le aplicará ningún descuento. \n",
    "Sabiendo que el precio de los helados es de 3€, escribe una función que reciba el número de helados y calcule el precio total de la compra con el descuento correspondiente. Prueba el correcto funcionamiento haciendo una llamada a la función con algún ejemplo"
   ]
  },
  {
   "cell_type": "code",
   "execution_count": 5,
   "metadata": {},
   "outputs": [
    {
     "name": "stdout",
     "output_type": "stream",
     "text": [
      "El precio total de la compra es de 14.40€\n"
     ]
    }
   ],
   "source": [
    "# Esta función recibe el número de helados, controlando que el valor\n",
    "# introducido sea un número entero\n",
    "def obtener_numero_total_helados():\n",
    "    while True:\n",
    "        entrada = input(\"Por favor, escribe el número total de helados: \")\n",
    "        if entrada.isdigit():  # Verifica si la entrada son solo dígitos\n",
    "            return int(entrada)\n",
    "        else:\n",
    "            print(\"Por favor, ingresa solo números enteros.\")\n",
    "\n",
    "# Recibir el numero total de helados\n",
    "cant_helados = obtener_numero_total_helados()\n",
    "\n",
    "# Definir la función para calcular el total a cobrar, sabiendo que si compra\n",
    "# entre 3 y 5 helados, el descuento aplicado será del 10% y si compra más de\n",
    "# 5 helados el descuento a aplicar será del 20%\n",
    "def total_a_cobrar(cant_helados):\n",
    "    precio_helado = 3\n",
    "    precio_total = precio_helado * cant_helados\n",
    "    if cant_helados > 5:\n",
    "        precio_total = precio_total - (precio_total * 0.20)\n",
    "    elif cant_helados >= 3 and cant_helados <= 5:\n",
    "        precio_total = precio_total - (precio_total * 0.10)\n",
    "    return precio_total\n",
    "\n",
    "# Llamada a la función\n",
    "precio_total = total_a_cobrar(cant_helados)\n",
    "\n",
    "print('El precio total de la compra es de {:.2f}€'.format(precio_total))"
   ]
  },
  {
   "cell_type": "markdown",
   "metadata": {},
   "source": [
    "### Encontrar la palabra más larga"
   ]
  },
  {
   "cell_type": "markdown",
   "metadata": {},
   "source": [
    "La empresa 'Ice Cream Avenue' quiere saber cuál es la palabra más larga en los nombres de sus helados. Escribe una función que reciba una lista de nombres de helados y devuelva la palabra más larga."
   ]
  },
  {
   "cell_type": "code",
   "execution_count": 6,
   "metadata": {},
   "outputs": [
    {
     "name": "stdout",
     "output_type": "stream",
     "text": [
      "El helado con el nombre más largo es: Chocolate\n"
     ]
    }
   ],
   "source": [
    "lista_de_helados = ['Menta', 'Nata' , 'Fresa' ,'Vainilla' , 'Chocolate']\n",
    "\n",
    "def nombre_mas_largo(lista_de_helados):\n",
    "    palabra_mas_larga = ''\n",
    "    for nombre in lista_de_helados:\n",
    "        if len(nombre) > len(palabra_mas_larga):\n",
    "            palabra_mas_larga = nombre\n",
    "    return palabra_mas_larga\n",
    "\n",
    "palabra_mas_larga = nombre_mas_largo(lista_de_helados)\n",
    "print((f'El helado con el nombre más largo es: {palabra_mas_larga}'))"
   ]
  },
  {
   "cell_type": "markdown",
   "metadata": {},
   "source": [
    "### Sabor con más ventas"
   ]
  },
  {
   "cell_type": "markdown",
   "metadata": {},
   "source": [
    "Escribe una función que reciba un número variable de parametros que indiquen diferentes sabores, cuyos respectivos valores sean las ventas de esos sabores. La función debe devolvernos cuál es el sabor con más ventas, y el número de ventas"
   ]
  },
  {
   "cell_type": "code",
   "execution_count": 7,
   "metadata": {},
   "outputs": [
    {
     "name": "stdout",
     "output_type": "stream",
     "text": [
      "El sabor más vendido es Chocolate, con 98 ventas.\n"
     ]
    }
   ],
   "source": [
    "# Funcion que devuelve el sabor con más ventas y el número de ventas\n",
    "def sabor_mas_vendido(**sabores_ventas):\n",
    "    sabor_max = None\n",
    "    ventas_max = 0\n",
    "    \n",
    "    for sabor, ventas in sabores_ventas.items():\n",
    "        if ventas > ventas_max:\n",
    "            sabor_max = sabor\n",
    "            ventas_max = ventas\n",
    "    \n",
    "    return sabor_max, ventas_max\n",
    "\n",
    "# Llamamos a la función pasandole un número de sabores y un número de ventas\n",
    "sabor, ventas = sabor_mas_vendido(Chocolate=98, Fresa=20, Vainilla=60, Menta=8)\n",
    "print(f\"El sabor más vendido es {sabor}, con {ventas} ventas.\")\n"
   ]
  },
  {
   "cell_type": "markdown",
   "metadata": {},
   "source": [
    "### Crear descuentos"
   ]
  },
  {
   "cell_type": "markdown",
   "metadata": {},
   "source": [
    "Define una función llamada crear_descuento que tome como parámetro una palabra y un porcentaje de descuento, y cree un string con la palabra en mayúsculas seguida del descuento en tanto por ciento. Por ejemplo, con los valores de parámetros helados y 0.5 debe devolver HELADOS50. El porcentaje de descuento debe ser un float mayor que 0 y menor que 1, de lo contrario la función debe levantar una excepción DiscountError indicando que el porcentaje de descuento no es válido. Utiliza un bloque try-except para manejar otras excepciones."
   ]
  },
  {
   "cell_type": "code",
   "execution_count": 10,
   "metadata": {},
   "outputs": [
    {
     "name": "stdout",
     "output_type": "stream",
     "text": [
      "HOLAQUETAL60\n"
     ]
    }
   ],
   "source": [
    "class DiscountError(Exception):\n",
    "    pass\n",
    "\n",
    "# Esta función recibe el descuento que se quiere aplicar\n",
    "def obtener_porcentaje_descuento():\n",
    "    while True:\n",
    "        descuento = input(\"Por favor, ingresa el porcentaje de descuento (entre 0 y 1): \")\n",
    "        try:\n",
    "            descuento = float(descuento)\n",
    "            if 0 <= descuento <= 1:\n",
    "                return descuento\n",
    "            else:\n",
    "                print(\"Por favor, ingresa un número decimal entre 0 y 1.\")\n",
    "        except ValueError:\n",
    "            print(\"Por favor, ingresa un número decimal válido.\")\n",
    "\n",
    "# Esta función recibe la palabra y el porcentaje de descuento que se quiere\n",
    "# aplicar y genera un cupón de descuento con la palabra en mayúsculas seguida del descuento\n",
    "def crear_descuento(palabra, descuento):\n",
    "    if not (0 < descuento < 1):\n",
    "        raise DiscountError(\"El porcentaje de descuento no es válido.\")\n",
    "    \n",
    "    descuento_str = str(int(descuento * 100))\n",
    "    palabra_mayusculas = palabra.upper()\n",
    "    \n",
    "    return palabra_mayusculas + descuento_str\n",
    "\n",
    "palabra = input(\"Por favor, escribe la palabra que quieras aplicar en el nombre del descuento: \")\n",
    "descuento = obtener_porcentaje_descuento()\n",
    "\n",
    "# Hacemos la llamada a la función utilizando un bloque try-except\n",
    "try:\n",
    "    descuento = crear_descuento(palabra, descuento)\n",
    "    print(descuento.replace(\" \", \"\"))  # Output: HELADOS50\n",
    "except DiscountError as e:\n",
    "    print(\"Error:\", e)\n"
   ]
  }
 ],
 "metadata": {
  "kernelspec": {
   "display_name": "Python 3",
   "language": "python",
   "name": "python3"
  },
  "language_info": {
   "codemirror_mode": {
    "name": "ipython",
    "version": 3
   },
   "file_extension": ".py",
   "mimetype": "text/x-python",
   "name": "python",
   "nbconvert_exporter": "python",
   "pygments_lexer": "ipython3",
   "version": "3.6.4"
  }
 },
 "nbformat": 4,
 "nbformat_minor": 2
}
