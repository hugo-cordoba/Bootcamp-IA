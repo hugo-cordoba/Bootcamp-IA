{
 "cells": [
  {
   "cell_type": "code",
   "execution_count": 15,
   "metadata": {},
   "outputs": [],
   "source": [
    "# Importación de librerías necesarias\n",
    "\n",
    "import pandas as pd\n",
    "import numpy as np"
   ]
  },
  {
   "cell_type": "markdown",
   "metadata": {},
   "source": [
    "### Acceso a los datos de ventas"
   ]
  },
  {
   "cell_type": "markdown",
   "metadata": {},
   "source": [
    "Carga el dataset de ventas. ¿Cuántas unidades de cualquier helado se han vendido en total a lo largo del histórico?"
   ]
  },
  {
   "cell_type": "code",
   "execution_count": 16,
   "metadata": {},
   "outputs": [
    {
     "data": {
      "text/html": [
       "<div>\n",
       "<style scoped>\n",
       "    .dataframe tbody tr th:only-of-type {\n",
       "        vertical-align: middle;\n",
       "    }\n",
       "\n",
       "    .dataframe tbody tr th {\n",
       "        vertical-align: top;\n",
       "    }\n",
       "\n",
       "    .dataframe thead th {\n",
       "        text-align: right;\n",
       "    }\n",
       "</style>\n",
       "<table border=\"1\" class=\"dataframe\">\n",
       "  <thead>\n",
       "    <tr style=\"text-align: right;\">\n",
       "      <th></th>\n",
       "      <th>fecha</th>\n",
       "      <th>id_producto</th>\n",
       "      <th>ventas_unidades</th>\n",
       "      <th>precio</th>\n",
       "    </tr>\n",
       "  </thead>\n",
       "  <tbody>\n",
       "    <tr>\n",
       "      <th>0</th>\n",
       "      <td>2019-01-07</td>\n",
       "      <td>4758</td>\n",
       "      <td>7953</td>\n",
       "      <td>4.82</td>\n",
       "    </tr>\n",
       "    <tr>\n",
       "      <th>1</th>\n",
       "      <td>2019-01-07</td>\n",
       "      <td>17</td>\n",
       "      <td>7052</td>\n",
       "      <td>1.50</td>\n",
       "    </tr>\n",
       "    <tr>\n",
       "      <th>2</th>\n",
       "      <td>2019-01-07</td>\n",
       "      <td>9134</td>\n",
       "      <td>6403</td>\n",
       "      <td>2.36</td>\n",
       "    </tr>\n",
       "    <tr>\n",
       "      <th>3</th>\n",
       "      <td>2019-01-07</td>\n",
       "      <td>8689</td>\n",
       "      <td>4266</td>\n",
       "      <td>2.47</td>\n",
       "    </tr>\n",
       "    <tr>\n",
       "      <th>4</th>\n",
       "      <td>2019-01-07</td>\n",
       "      <td>402</td>\n",
       "      <td>2932</td>\n",
       "      <td>2.89</td>\n",
       "    </tr>\n",
       "  </tbody>\n",
       "</table>\n",
       "</div>"
      ],
      "text/plain": [
       "       fecha  id_producto  ventas_unidades  precio\n",
       "0 2019-01-07         4758             7953    4.82\n",
       "1 2019-01-07           17             7052    1.50\n",
       "2 2019-01-07         9134             6403    2.36\n",
       "3 2019-01-07         8689             4266    2.47\n",
       "4 2019-01-07          402             2932    2.89"
      ]
     },
     "execution_count": 16,
     "metadata": {},
     "output_type": "execute_result"
    }
   ],
   "source": [
    "df = pd.read_excel('./ventas_helados.xlsx')\n",
    "df.head()"
   ]
  },
  {
   "cell_type": "code",
   "execution_count": 17,
   "metadata": {},
   "outputs": [
    {
     "name": "stdout",
     "output_type": "stream",
     "text": [
      "\n",
      "Se han vendido un total de: 3848068 helados\n"
     ]
    }
   ],
   "source": [
    "total_units_sold = df['ventas_unidades'].sum()\n",
    "print(f'\\nSe han vendido un total de: {total_units_sold} helados')"
   ]
  },
  {
   "cell_type": "markdown",
   "metadata": {},
   "source": [
    "¿Cuál es el identificador del helado con más ventas en euros?"
   ]
  },
  {
   "cell_type": "code",
   "execution_count": 18,
   "metadata": {},
   "outputs": [
    {
     "name": "stdout",
     "output_type": "stream",
     "text": [
      "id_producto\n",
      "17      998119\n",
      "101      27127\n",
      "240     202538\n",
      "402     266723\n",
      "999      20468\n",
      "2033    209155\n",
      "3636     32070\n",
      "4468     14473\n",
      "4577    130704\n",
      "4758    449007\n",
      "5019     17401\n",
      "5684     45269\n",
      "6525     62213\n",
      "7118      4051\n",
      "8689    689257\n",
      "9134    679493\n",
      "Name: ventas_unidades, dtype: int64\n",
      "\n",
      "El ID del helado con más ventas es: 17\n"
     ]
    }
   ],
   "source": [
    "# Agrupamos los datos de ventas por helado y el identificador del helado\n",
    "ventas_por_helado = df.groupby('id_producto')['ventas_unidades'].sum()\n",
    "print(ventas_por_helado)\n",
    "\n",
    "# Encontrar el helado con las ventas más altas\n",
    "id_helado_max_ventas = ventas_por_helado.idxmax()\n",
    "\n",
    "print(\"\\nEl ID del helado con más ventas es:\", id_helado_max_ventas)"
   ]
  },
  {
   "cell_type": "markdown",
   "metadata": {},
   "source": [
    "### Acceso a los datos de publicidad"
   ]
  },
  {
   "cell_type": "markdown",
   "metadata": {},
   "source": [
    "Lee los datos de publicidad, y transformalos en una serie semanal con la suma de todos los medios."
   ]
  },
  {
   "cell_type": "code",
   "execution_count": 19,
   "metadata": {},
   "outputs": [
    {
     "data": {
      "text/html": [
       "<div>\n",
       "<style scoped>\n",
       "    .dataframe tbody tr th:only-of-type {\n",
       "        vertical-align: middle;\n",
       "    }\n",
       "\n",
       "    .dataframe tbody tr th {\n",
       "        vertical-align: top;\n",
       "    }\n",
       "\n",
       "    .dataframe thead th {\n",
       "        text-align: right;\n",
       "    }\n",
       "</style>\n",
       "<table border=\"1\" class=\"dataframe\">\n",
       "  <thead>\n",
       "    <tr style=\"text-align: right;\">\n",
       "      <th></th>\n",
       "      <th>fecha</th>\n",
       "      <th>inversion_tv</th>\n",
       "      <th>inversion_radio</th>\n",
       "      <th>inversion_youtube</th>\n",
       "      <th>inversion_facebook</th>\n",
       "    </tr>\n",
       "  </thead>\n",
       "  <tbody>\n",
       "    <tr>\n",
       "      <th>0</th>\n",
       "      <td>2019-01-07</td>\n",
       "      <td>6100</td>\n",
       "      <td>0</td>\n",
       "      <td>6100</td>\n",
       "      <td>0</td>\n",
       "    </tr>\n",
       "    <tr>\n",
       "      <th>1</th>\n",
       "      <td>2019-01-14</td>\n",
       "      <td>0</td>\n",
       "      <td>0</td>\n",
       "      <td>0</td>\n",
       "      <td>6530</td>\n",
       "    </tr>\n",
       "    <tr>\n",
       "      <th>2</th>\n",
       "      <td>2019-01-21</td>\n",
       "      <td>1120</td>\n",
       "      <td>0</td>\n",
       "      <td>1120</td>\n",
       "      <td>5610</td>\n",
       "    </tr>\n",
       "    <tr>\n",
       "      <th>3</th>\n",
       "      <td>2019-01-28</td>\n",
       "      <td>0</td>\n",
       "      <td>0</td>\n",
       "      <td>0</td>\n",
       "      <td>1510</td>\n",
       "    </tr>\n",
       "    <tr>\n",
       "      <th>4</th>\n",
       "      <td>2019-02-04</td>\n",
       "      <td>880</td>\n",
       "      <td>880</td>\n",
       "      <td>880</td>\n",
       "      <td>0</td>\n",
       "    </tr>\n",
       "  </tbody>\n",
       "</table>\n",
       "</div>"
      ],
      "text/plain": [
       "       fecha  inversion_tv  inversion_radio  inversion_youtube  \\\n",
       "0 2019-01-07          6100                0               6100   \n",
       "1 2019-01-14             0                0                  0   \n",
       "2 2019-01-21          1120                0               1120   \n",
       "3 2019-01-28             0                0                  0   \n",
       "4 2019-02-04           880              880                880   \n",
       "\n",
       "   inversion_facebook  \n",
       "0                   0  \n",
       "1                6530  \n",
       "2                5610  \n",
       "3                1510  \n",
       "4                   0  "
      ]
     },
     "execution_count": 19,
     "metadata": {},
     "output_type": "execute_result"
    }
   ],
   "source": [
    "df = pd.read_excel('./inversiones_helados.xlsx')\n",
    "df.head()"
   ]
  },
  {
   "cell_type": "code",
   "execution_count": 20,
   "metadata": {},
   "outputs": [
    {
     "name": "stdout",
     "output_type": "stream",
     "text": [
      "fecha\n",
      "2019-01-07    12200\n",
      "2019-01-14     6530\n",
      "2019-01-21     7850\n",
      "2019-01-28     1510\n",
      "2019-02-04     2640\n",
      "              ...  \n",
      "2020-11-30    14640\n",
      "2020-12-07    35160\n",
      "2020-12-14    79560\n",
      "2020-12-21     5970\n",
      "2020-12-28     7680\n",
      "Name: total_inversion, Length: 104, dtype: int64\n"
     ]
    }
   ],
   "source": [
    "# Agrupar por semana y sumar las inversiones de todos los medios\n",
    "serie_semanal = df.groupby(pd.Grouper(key='fecha')).sum()\n",
    "\n",
    "# Sumar las inversiones de todos los medios para cada semana\n",
    "serie_semanal['total_inversion'] = serie_semanal.sum(axis=1)\n",
    "\n",
    "serie_total_inversion = pd.Series(serie_semanal['total_inversion'], name='total_inversion')\n",
    "\n",
    "print(serie_total_inversion)"
   ]
  },
  {
   "cell_type": "markdown",
   "metadata": {},
   "source": [
    "¿Cuál es el mes con más inversión total?"
   ]
  },
  {
   "cell_type": "code",
   "execution_count": 21,
   "metadata": {},
   "outputs": [
    {
     "name": "stdout",
     "output_type": "stream",
     "text": [
      "fecha\n",
      "2019-01-31     28090\n",
      "2019-02-28     29520\n",
      "2019-03-31     12310\n",
      "2019-04-30     57890\n",
      "2019-05-31     26900\n",
      "2019-06-30     33770\n",
      "2019-07-31     60080\n",
      "2019-08-31     80200\n",
      "2019-09-30     31260\n",
      "2019-10-31     41680\n",
      "2019-11-30     30110\n",
      "2019-12-31     54240\n",
      "2020-01-31      5210\n",
      "2020-02-29     69320\n",
      "2020-03-31     76770\n",
      "2020-04-30     38780\n",
      "2020-05-31     25560\n",
      "2020-06-30     46470\n",
      "2020-07-31     47810\n",
      "2020-08-31    141710\n",
      "2020-09-30     36090\n",
      "2020-10-31     47610\n",
      "2020-11-30     31080\n",
      "2020-12-31    128370\n",
      "Freq: ME, Name: total_inversion, dtype: int64\n",
      "\n",
      "El mes con la mayor inversión total es: August de 2020\n"
     ]
    }
   ],
   "source": [
    "# Agrupar por mes y sumar las inversiones de todos los medios\n",
    "serie_mensual = df.groupby(pd.Grouper(key='fecha', freq='ME')).sum()\n",
    "\n",
    "# Sumar las inversiones de todos los medios para cada mes\n",
    "serie_mensual['total_inversion'] = serie_mensual.sum(axis=1)\n",
    "\n",
    "# Crear la serie mensual con la suma de inversiones totales\n",
    "serie_total_inversion_mensual = pd.Series(serie_mensual['total_inversion'], name='total_inversion')\n",
    "\n",
    "print(serie_total_inversion_mensual)\n",
    "\n",
    "# Encontrar el mes con la mayor inversión total\n",
    "mes_max_inversion = serie_mensual['total_inversion'].idxmax().strftime('%B de %Y')\n",
    "\n",
    "print(\"\\nEl mes con la mayor inversión total es:\", mes_max_inversion)"
   ]
  },
  {
   "cell_type": "markdown",
   "metadata": {},
   "source": [
    "### Combinando datos"
   ]
  },
  {
   "cell_type": "markdown",
   "metadata": {},
   "source": [
    "Combina el dataframe de ventas con las descripciones de los productos, y quédate sólo con los productos de helados de tarrina."
   ]
  },
  {
   "cell_type": "code",
   "execution_count": 22,
   "metadata": {},
   "outputs": [
    {
     "data": {
      "text/html": [
       "<div>\n",
       "<style scoped>\n",
       "    .dataframe tbody tr th:only-of-type {\n",
       "        vertical-align: middle;\n",
       "    }\n",
       "\n",
       "    .dataframe tbody tr th {\n",
       "        vertical-align: top;\n",
       "    }\n",
       "\n",
       "    .dataframe thead th {\n",
       "        text-align: right;\n",
       "    }\n",
       "</style>\n",
       "<table border=\"1\" class=\"dataframe\">\n",
       "  <thead>\n",
       "    <tr style=\"text-align: right;\">\n",
       "      <th></th>\n",
       "      <th>fecha</th>\n",
       "      <th>id_producto</th>\n",
       "      <th>ventas_unidades</th>\n",
       "      <th>precio</th>\n",
       "      <th>nombre</th>\n",
       "    </tr>\n",
       "  </thead>\n",
       "  <tbody>\n",
       "    <tr>\n",
       "      <th>5</th>\n",
       "      <td>2019-01-07</td>\n",
       "      <td>2033</td>\n",
       "      <td>1862</td>\n",
       "      <td>2.44</td>\n",
       "      <td>CARTE D' OR Helado de yogur Tarrina 500 gr</td>\n",
       "    </tr>\n",
       "    <tr>\n",
       "      <th>8</th>\n",
       "      <td>2019-01-07</td>\n",
       "      <td>240</td>\n",
       "      <td>1015</td>\n",
       "      <td>2.30</td>\n",
       "      <td>Helado Haagen Dazs Cookies Tarrina 400 g</td>\n",
       "    </tr>\n",
       "    <tr>\n",
       "      <th>10</th>\n",
       "      <td>2019-01-07</td>\n",
       "      <td>5684</td>\n",
       "      <td>317</td>\n",
       "      <td>3.70</td>\n",
       "      <td>DIA Helado Fresa Tarrina 1kg</td>\n",
       "    </tr>\n",
       "    <tr>\n",
       "      <th>11</th>\n",
       "      <td>2019-01-07</td>\n",
       "      <td>101</td>\n",
       "      <td>208</td>\n",
       "      <td>3.93</td>\n",
       "      <td>MAGNUM Helado White Chocolate &amp; Cookies Tarrin...</td>\n",
       "    </tr>\n",
       "    <tr>\n",
       "      <th>13</th>\n",
       "      <td>2019-01-07</td>\n",
       "      <td>3636</td>\n",
       "      <td>160</td>\n",
       "      <td>2.60</td>\n",
       "      <td>CARTE D' OR Helado Stracciatella Tarrina 500 gr</td>\n",
       "    </tr>\n",
       "  </tbody>\n",
       "</table>\n",
       "</div>"
      ],
      "text/plain": [
       "        fecha  id_producto  ventas_unidades  precio  \\\n",
       "5  2019-01-07         2033             1862    2.44   \n",
       "8  2019-01-07          240             1015    2.30   \n",
       "10 2019-01-07         5684              317    3.70   \n",
       "11 2019-01-07          101              208    3.93   \n",
       "13 2019-01-07         3636              160    2.60   \n",
       "\n",
       "                                               nombre  \n",
       "5          CARTE D' OR Helado de yogur Tarrina 500 gr  \n",
       "8            Helado Haagen Dazs Cookies Tarrina 400 g  \n",
       "10                       DIA Helado Fresa Tarrina 1kg  \n",
       "11  MAGNUM Helado White Chocolate & Cookies Tarrin...  \n",
       "13    CARTE D' OR Helado Stracciatella Tarrina 500 gr  "
      ]
     },
     "execution_count": 22,
     "metadata": {},
     "output_type": "execute_result"
    }
   ],
   "source": [
    "df_ventas = pd.read_excel('./ventas_helados.xlsx')\n",
    "df_productos = pd.read_csv('./nombres_productos.csv')\n",
    "\n",
    "# Fusionar los DataFrames en función del id_producto\n",
    "df_combinado = pd.merge(df_ventas, df_productos, on='id_producto', how='inner')\n",
    "\n",
    "# Filtrar los productos de helados de tarrina\n",
    "helados_tarrina = df_combinado[df_combinado['nombre'].str.contains('Tarrina')]\n",
    "\n",
    "helados_tarrina.head()"
   ]
  },
  {
   "cell_type": "markdown",
   "metadata": {},
   "source": [
    "Agrega el dataset anterior en una serie semanal que agregue todos los productos mediante la suma de unidades y la media de los precios"
   ]
  },
  {
   "cell_type": "code",
   "execution_count": 23,
   "metadata": {},
   "outputs": [
    {
     "name": "stdout",
     "output_type": "stream",
     "text": [
      "ventas_unidades    fecha\n",
      "2019-01-13    35155\n",
      "2019-01-20    33580\n",
      "...\n",
      "precio_promedio    fecha\n",
      "2019-01-13    2.890000\n",
      "2019-01-20    2.8...\n",
      "dtype: object\n"
     ]
    }
   ],
   "source": [
    "serie_semanal_unidades = df_ventas.groupby(pd.Grouper(key='fecha', freq='W'))['ventas_unidades'].sum()\n",
    "serie_semanal_precios = df_ventas.groupby(pd.Grouper(key='fecha', freq='W'))['precio'].mean()\n",
    "\n",
    "serie_semanal = pd.Series({'ventas_unidades': serie_semanal_unidades, 'precio_promedio': serie_semanal_precios})\n",
    "\n",
    "print(serie_semanal)"
   ]
  },
  {
   "cell_type": "markdown",
   "metadata": {},
   "source": [
    "##### Combina todos los dataframes en uno solo (llamado dataset_conjunto), partiendo del dataset con los datos de helados de tarrina agregados por semana. Utiliza left joins"
   ]
  },
  {
   "cell_type": "markdown",
   "metadata": {},
   "source": [
    "Crea una variable binaria <i>navidad</i> que valga 1 en las semanas de nochebuena y nochevieja\n"
   ]
  },
  {
   "cell_type": "code",
   "execution_count": null,
   "metadata": {},
   "outputs": [],
   "source": []
  },
  {
   "cell_type": "markdown",
   "metadata": {},
   "source": [
    "### Jugando con expresiones regulares"
   ]
  },
  {
   "cell_type": "markdown",
   "metadata": {},
   "source": [
    "¿Eres capaz de crear una variable de formato (peso en kilos) a partir del nombre del producto, utilizando expresiones regulares?"
   ]
  },
  {
   "cell_type": "code",
   "execution_count": null,
   "metadata": {},
   "outputs": [],
   "source": []
  }
 ],
 "metadata": {
  "kernelspec": {
   "display_name": "Python 3",
   "language": "python",
   "name": "python3"
  },
  "language_info": {
   "codemirror_mode": {
    "name": "ipython",
    "version": 3
   },
   "file_extension": ".py",
   "mimetype": "text/x-python",
   "name": "python",
   "nbconvert_exporter": "python",
   "pygments_lexer": "ipython3",
   "version": "3.11.8"
  }
 },
 "nbformat": 4,
 "nbformat_minor": 2
}
