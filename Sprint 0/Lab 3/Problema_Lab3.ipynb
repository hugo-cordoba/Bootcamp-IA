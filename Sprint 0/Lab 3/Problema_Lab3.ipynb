{
 "cells": [
  {
   "cell_type": "markdown",
   "metadata": {},
   "source": [
    "### Acceso a los datos de ventas"
   ]
  },
  {
   "cell_type": "code",
   "execution_count": 35,
   "metadata": {},
   "outputs": [],
   "source": [
    "# Importación de librerías necesarias\n",
    "\n",
    "import pandas as pd\n",
    "import re"
   ]
  },
  {
   "cell_type": "markdown",
   "metadata": {},
   "source": [
    "Carga el dataset de ventas. ¿Cuántas unidades de cualquier helado se han vendido en total a lo largo del histórico?"
   ]
  },
  {
   "cell_type": "code",
   "execution_count": 36,
   "metadata": {},
   "outputs": [
    {
     "name": "stdout",
     "output_type": "stream",
     "text": [
      "Primeras filas del DataFrame:\n",
      "       fecha  id_producto  ventas_unidades  precio\n",
      "0 2019-01-07         4758             7953    4.82\n",
      "1 2019-01-07           17             7052    1.50\n",
      "2 2019-01-07         9134             6403    2.36\n",
      "3 2019-01-07         8689             4266    2.47\n",
      "4 2019-01-07          402             2932    2.89\n",
      "\n",
      "El total de unidades de helado vendidas en el histórico es: 3848068\n"
     ]
    }
   ],
   "source": [
    "# Lee el archivo CSV\n",
    "df_ventas = pd.read_excel('./ventas_helados.xlsx')\n",
    "\n",
    "# Muestra las primeras filas del DataFrame\n",
    "print(\"Primeras filas del DataFrame:\")\n",
    "print(df_ventas.head())\n",
    "print(\"\")\n",
    "\n",
    "# Calcular el total de unidades de helado vendidas\n",
    "total_unidades_vendidas = df_ventas['ventas_unidades'].sum()\n",
    "print(\"El total de unidades de helado vendidas en el histórico es:\", total_unidades_vendidas)"
   ]
  },
  {
   "cell_type": "markdown",
   "metadata": {},
   "source": [
    "¿Cuál es el identificador del helado con más ventas en euros?"
   ]
  },
  {
   "cell_type": "code",
   "execution_count": 37,
   "metadata": {},
   "outputs": [
    {
     "name": "stdout",
     "output_type": "stream",
     "text": [
      "Ventas por producto ordenadas de mayor a menor:\n",
      "\n",
      "id_producto\n",
      "4758    2247420.20\n",
      "8689    1758488.86\n",
      "9134    1619742.42\n",
      "17      1491649.79\n",
      "402      797522.39\n",
      "4577     672285.39\n",
      "2033     518685.75\n",
      "240      478199.22\n",
      "5684     166786.80\n",
      "6525     146400.29\n",
      "101      102972.81\n",
      "3636      83036.58\n",
      "5019      43555.95\n",
      "999       37850.19\n",
      "4468      37534.98\n",
      "7118       9602.29\n",
      "Name: ventas_euros, dtype: float64\n",
      "\n",
      "El identificador del helado con más ventas en euros es: 4758\n"
     ]
    }
   ],
   "source": [
    "# Calcular las ventas totales por producto (en euros)\n",
    "df_ventas['ventas_euros'] = df_ventas['ventas_unidades'] * df_ventas['precio']\n",
    "\n",
    "# Agrupar por id_producto y sumar las ventas en euros\n",
    "ventas_por_producto = df_ventas.groupby('id_producto')['ventas_euros'].sum()\n",
    "\n",
    "# Ordenar las ventas por producto de mayor a menor\n",
    "ventas_por_producto_ordenadas = ventas_por_producto.sort_values(ascending=False)\n",
    "\n",
    "print(\"Ventas por producto ordenadas de mayor a menor:\\n\")\n",
    "print(ventas_por_producto_ordenadas)\n",
    "\n",
    "# Encontrar el identificador del producto con más ventas en euros\n",
    "id_producto_mas_vendido = ventas_por_producto.idxmax()\n",
    "\n",
    "print(\"\\nEl identificador del helado con más ventas en euros es:\", id_producto_mas_vendido)"
   ]
  },
  {
   "cell_type": "markdown",
   "metadata": {},
   "source": [
    "### Acceso a los datos de publicidad"
   ]
  },
  {
   "cell_type": "markdown",
   "metadata": {},
   "source": [
    "Lee los datos de publicidad, y transformalos en una serie semanal con la suma de todos los medios."
   ]
  },
  {
   "cell_type": "code",
   "execution_count": 38,
   "metadata": {},
   "outputs": [
    {
     "name": "stdout",
     "output_type": "stream",
     "text": [
      "Dataset de inversión en publicidad\n",
      "\n",
      "         fecha  inversion_tv  inversion_radio  inversion_youtube  \\\n",
      "0   2019-01-07          6100                0               6100   \n",
      "1   2019-01-14             0                0                  0   \n",
      "2   2019-01-21          1120                0               1120   \n",
      "3   2019-01-28             0                0                  0   \n",
      "4   2019-02-04           880              880                880   \n",
      "..         ...           ...              ...                ...   \n",
      "99  2020-11-30          4880             4880               4880   \n",
      "100 2020-12-07         17580            17580                  0   \n",
      "101 2020-12-14         26520            26520              26520   \n",
      "102 2020-12-21           860                0                860   \n",
      "103 2020-12-28           960              960                960   \n",
      "\n",
      "     inversion_facebook  \n",
      "0                     0  \n",
      "1                  6530  \n",
      "2                  5610  \n",
      "3                  1510  \n",
      "4                     0  \n",
      "..                  ...  \n",
      "99                    0  \n",
      "100                   0  \n",
      "101                   0  \n",
      "102                4250  \n",
      "103                4800  \n",
      "\n",
      "[104 rows x 5 columns]\n"
     ]
    }
   ],
   "source": [
    "# Cargar el dataset de inversión en publicidad\n",
    "df_inversiones = pd.read_excel('./inversiones_helados.xlsx')\n",
    "print('Dataset de inversión en publicidad\\n')\n",
    "print(df_inversiones)"
   ]
  },
  {
   "cell_type": "code",
   "execution_count": 39,
   "metadata": {},
   "outputs": [
    {
     "name": "stdout",
     "output_type": "stream",
     "text": [
      "Serie semanal con la suma de inversión en todos los medios:\n",
      "fecha\n",
      "2019-01-07    12200\n",
      "2019-01-14     6530\n",
      "2019-01-21     7850\n",
      "2019-01-28     1510\n",
      "2019-02-04     2640\n",
      "              ...  \n",
      "2020-11-30    14640\n",
      "2020-12-07    35160\n",
      "2020-12-14    79560\n",
      "2020-12-21     5970\n",
      "2020-12-28     7680\n",
      "Freq: W-MON, Length: 104, dtype: int64\n"
     ]
    }
   ],
   "source": [
    "# Agrupar por semana (lunes a domingo) y sumar los valores para cada medio\n",
    "serie_semanal = df_inversiones.groupby(pd.Grouper(key='fecha', freq='W-MON'))\\\n",
    "    .sum()\\\n",
    "    .sum(axis=1)\n",
    "\n",
    "print(\"Serie semanal con la suma de inversión en todos los medios:\")\n",
    "print(serie_semanal)\n"
   ]
  },
  {
   "cell_type": "markdown",
   "metadata": {},
   "source": [
    "¿Cuál es el mes con más inversión total?"
   ]
  },
  {
   "cell_type": "code",
   "execution_count": 40,
   "metadata": {},
   "outputs": [
    {
     "name": "stdout",
     "output_type": "stream",
     "text": [
      "El mes con la mayor inversión total es: 2020-08\n",
      "\n",
      "fecha\n",
      "2020-08    141710\n",
      "2020-12    128370\n",
      "2019-08     80200\n",
      "2020-03     76770\n",
      "2020-02     69320\n",
      "Freq: M, dtype: int64\n"
     ]
    }
   ],
   "source": [
    "# Convertir los índices de la serie a formato de fecha\n",
    "serie_semanal.index = pd.to_datetime(serie_semanal.index)\n",
    "\n",
    "# Agrupar por mes y sumar los valores de inversión para cada mes\n",
    "inversion_por_mes = serie_semanal.groupby(serie_semanal.index.to_period('M')).sum()\n",
    "\n",
    "# Encontrar el mes con la mayor inversión total\n",
    "mes_con_mas_inversion = inversion_por_mes.idxmax()\n",
    "\n",
    "print(\"El mes con la mayor inversión total es:\", mes_con_mas_inversion)\n",
    "print(\"\")\n",
    "\n",
    "# Mostrar los cinco primeros valores de inversión agrupados por mes\n",
    "inversion_por_mes_ordenadas = inversion_por_mes.sort_values(ascending=False)\n",
    "\n",
    "print(inversion_por_mes_ordenadas.head(5))\n",
    "\n"
   ]
  },
  {
   "cell_type": "markdown",
   "metadata": {},
   "source": [
    "### Combinando datos"
   ]
  },
  {
   "cell_type": "markdown",
   "metadata": {},
   "source": [
    "Combina el dataframe de ventas con las descripciones de los productos, y quédate sólo con los productos de helados de tarrina."
   ]
  },
  {
   "cell_type": "code",
   "execution_count": 41,
   "metadata": {},
   "outputs": [
    {
     "name": "stdout",
     "output_type": "stream",
     "text": [
      "          fecha  id_producto  ventas_unidades  precio  \\\n",
      "0    2019-01-07         4758             7953    4.82   \n",
      "1    2019-01-07           17             7052    1.50   \n",
      "2    2019-01-07         9134             6403    2.36   \n",
      "3    2019-01-07         8689             4266    2.47   \n",
      "4    2019-01-07          402             2932    2.89   \n",
      "...         ...          ...              ...     ...   \n",
      "1388 2020-12-28         5684              854    3.96   \n",
      "1389 2020-12-28          101              758    3.31   \n",
      "1390 2020-12-28         3636              401    2.68   \n",
      "1391 2020-12-28         7118              344    2.15   \n",
      "1392 2020-12-28         5019              250    2.42   \n",
      "\n",
      "                                                 nombre  \n",
      "0       NESTLE helado maxibon cookies caja 4 uds 360 gr  \n",
      "1                    OREO Helado cono caja 4 uds 250 gr  \n",
      "2      DIA Helado cono sabor vainilla caja 6 uds 408 gr  \n",
      "3     NESTLE Helado cono kit kat classic caja 4 uds ...  \n",
      "4     MILKA Helado cono chocolate y vainilla Caja 4 ...  \n",
      "...                                                 ...  \n",
      "1388                       DIA Helado Fresa Tarrina 1kg  \n",
      "1389  MAGNUM Helado White Chocolate & Cookies Tarrin...  \n",
      "1390    CARTE D' OR Helado Stracciatella Tarrina 500 gr  \n",
      "1391             Haagen Dazs Helado Fresa Tarrina 400 g  \n",
      "1392            DIA Helado Dulce de Leche Tarrina 500 g  \n",
      "\n",
      "[1393 rows x 5 columns]\n"
     ]
    }
   ],
   "source": [
    "# Cargar los DataFrames de ventas de helados y nombres de productos\n",
    "ventas_helados = pd.read_excel('./ventas_helados.xlsx')\n",
    "nombres_productos = pd.read_csv('./nombres_productos.csv')\n",
    "\n",
    "# Combinar los DataFrames\n",
    "ventas_con_nombres = pd.merge(ventas_helados, nombres_productos, on='id_producto', how='left')\n",
    "\n",
    "print(ventas_con_nombres)\n"
   ]
  },
  {
   "cell_type": "code",
   "execution_count": 42,
   "metadata": {},
   "outputs": [
    {
     "name": "stdout",
     "output_type": "stream",
     "text": [
      "          fecha  id_producto  ventas_unidades  precio  \\\n",
      "5    2019-01-07         2033             1862    2.44   \n",
      "8    2019-01-07          240             1015    2.30   \n",
      "10   2019-01-07         5684              317    3.70   \n",
      "11   2019-01-07          101              208    3.93   \n",
      "13   2019-01-07         3636              160    2.60   \n",
      "...         ...          ...              ...     ...   \n",
      "1388 2020-12-28         5684              854    3.96   \n",
      "1389 2020-12-28          101              758    3.31   \n",
      "1390 2020-12-28         3636              401    2.68   \n",
      "1391 2020-12-28         7118              344    2.15   \n",
      "1392 2020-12-28         5019              250    2.42   \n",
      "\n",
      "                                                 nombre  \n",
      "5            CARTE D' OR Helado de yogur Tarrina 500 gr  \n",
      "8              Helado Haagen Dazs Cookies Tarrina 400 g  \n",
      "10                         DIA Helado Fresa Tarrina 1kg  \n",
      "11    MAGNUM Helado White Chocolate & Cookies Tarrin...  \n",
      "13      CARTE D' OR Helado Stracciatella Tarrina 500 gr  \n",
      "...                                                 ...  \n",
      "1388                       DIA Helado Fresa Tarrina 1kg  \n",
      "1389  MAGNUM Helado White Chocolate & Cookies Tarrin...  \n",
      "1390    CARTE D' OR Helado Stracciatella Tarrina 500 gr  \n",
      "1391             Haagen Dazs Helado Fresa Tarrina 400 g  \n",
      "1392            DIA Helado Dulce de Leche Tarrina 500 g  \n",
      "\n",
      "[721 rows x 5 columns]\n"
     ]
    }
   ],
   "source": [
    "# Filtrar solo los productos de helados de tarrina\n",
    "productos_helados_tarrina = ventas_con_nombres[ventas_con_nombres['nombre'].str.contains('Tarrina')]\n",
    "\n",
    "print(productos_helados_tarrina)\n"
   ]
  },
  {
   "cell_type": "markdown",
   "metadata": {},
   "source": [
    "Agrega el dataset anterior en una serie semanal que agregue todos los productos mediante la suma de unidades y la media de los precios"
   ]
  },
  {
   "cell_type": "code",
   "execution_count": 43,
   "metadata": {},
   "outputs": [
    {
     "name": "stdout",
     "output_type": "stream",
     "text": [
      "Serie semanal para productos de helados de tarrina con la suma de unidades y la media de precios:\n",
      "            ventas_unidades    precio\n",
      "fecha                                \n",
      "2019-01-07             3694  2.903333\n",
      "2019-01-14             3052  2.846667\n",
      "2019-01-21             2952  2.820000\n",
      "2019-01-28             3165  2.890000\n",
      "2019-02-04             3211  2.925000\n",
      "...                     ...       ...\n",
      "2020-11-30             4144  2.827143\n",
      "2020-12-07             5336  2.765714\n",
      "2020-12-14             5566  2.797143\n",
      "2020-12-21             5853  2.777143\n",
      "2020-12-28             6090  2.754286\n",
      "\n",
      "[104 rows x 2 columns]\n"
     ]
    }
   ],
   "source": [
    "# Calcular la suma de unidades y la media de precios por semana\n",
    "serie_semanal_tarrina = productos_helados_tarrina.groupby(pd.Grouper(key='fecha', freq='W-MON'))\\\n",
    "    .agg({'ventas_unidades': 'sum', 'precio': 'mean'})\n",
    "\n",
    "print(\"Serie semanal para productos de helados de tarrina con la suma de unidades y la media de precios:\")\n",
    "print(serie_semanal_tarrina)"
   ]
  },
  {
   "cell_type": "markdown",
   "metadata": {},
   "source": [
    "##### Combina todos los dataframes en uno solo (llamado dataset_conjunto), partiendo del dataset con los datos de helados de tarrina agregados por semana. Utiliza left joins   "
   ]
  },
  {
   "cell_type": "markdown",
   "metadata": {},
   "source": [
    "Crea una variable binaria <i>navidad</i> que valga 1 en las semanas de nochebuena y nochevieja\n"
   ]
  },
  {
   "cell_type": "code",
   "execution_count": 44,
   "metadata": {},
   "outputs": [
    {
     "name": "stdout",
     "output_type": "stream",
     "text": [
      "DATASET CONJUNTO \n",
      "\n",
      "       fecha  id_producto  ventas_unidades  precio  \\\n",
      "0 2019-01-07         4758             7953    4.82   \n",
      "1 2019-01-07           17             7052    1.50   \n",
      "2 2019-01-07         9134             6403    2.36   \n",
      "3 2019-01-07         8689             4266    2.47   \n",
      "4 2019-01-07          402             2932    2.89   \n",
      "\n",
      "                                              nombre  inversion_tv  \\\n",
      "0    NESTLE helado maxibon cookies caja 4 uds 360 gr          6100   \n",
      "1                 OREO Helado cono caja 4 uds 250 gr          6100   \n",
      "2   DIA Helado cono sabor vainilla caja 6 uds 408 gr          6100   \n",
      "3  NESTLE Helado cono kit kat classic caja 4 uds ...          6100   \n",
      "4  MILKA Helado cono chocolate y vainilla Caja 4 ...          6100   \n",
      "\n",
      "   inversion_radio  inversion_youtube  inversion_facebook  \n",
      "0                0               6100                   0  \n",
      "1                0               6100                   0  \n",
      "2                0               6100                   0  \n",
      "3                0               6100                   0  \n",
      "4                0               6100                   0  \n"
     ]
    }
   ],
   "source": [
    "ventas_helados = pd.read_excel(\"ventas_helados.xlsx\")\n",
    "nombres_productos = pd.read_csv(\"nombres_productos.csv\")\n",
    "inversiones_helados = pd.read_excel(\"inversiones_helados.xlsx\")\n",
    "\n",
    "# Realizar left joins\n",
    "dataset_conjunto = pd.merge(ventas_helados, nombres_productos, on=\"id_producto\", how=\"left\")\n",
    "dataset_conjunto = pd.merge(dataset_conjunto, inversiones_helados, on=\"fecha\", how=\"left\")\n",
    "\n",
    "# Mostrar las primeras filas del dataset combinado\n",
    "print('DATASET CONJUNTO \\n')\n",
    "print(dataset_conjunto.head())"
   ]
  },
  {
   "cell_type": "markdown",
   "metadata": {},
   "source": [
    "### Jugando con expresiones regulares"
   ]
  },
  {
   "cell_type": "markdown",
   "metadata": {},
   "source": [
    "¿Eres capaz de crear una variable de formato (peso en kilos) a partir del nombre del producto, utilizando expresiones regulares?"
   ]
  },
  {
   "cell_type": "code",
   "execution_count": 45,
   "metadata": {},
   "outputs": [
    {
     "name": "stdout",
     "output_type": "stream",
     "text": [
      "0       0.360\n",
      "1       0.250\n",
      "2       0.408\n",
      "3       0.240\n",
      "4       0.270\n",
      "        ...  \n",
      "1388      NaN\n",
      "1389    0.300\n",
      "1390    0.500\n",
      "1391      NaN\n",
      "1392      NaN\n",
      "Name: peso_kilos, Length: 1393, dtype: float64\n"
     ]
    }
   ],
   "source": [
    "def extraer_peso(nombre_producto):\n",
    "    # Buscar el patrón de peso en gramos\n",
    "    patron = r\"(\\d+)\\s*gr\"\n",
    "    resultado = re.search(patron, nombre_producto, re.IGNORECASE)\n",
    "    if resultado:\n",
    "        peso_gramos = int(resultado.group(1))\n",
    "        # Convertir gramos a kilogramos\n",
    "        peso_kilos = peso_gramos / 1000\n",
    "        return peso_kilos\n",
    "    else:\n",
    "        return None\n",
    "\n",
    "# Aplicar la función a cada nombre de producto en la columna \"nombre\"\n",
    "dataset_conjunto[\"peso_kilos\"] = dataset_conjunto[\"nombre\"].apply(extraer_peso)\n",
    "\n",
    "# Imprimir el DataFrame resultante\n",
    "print(dataset_conjunto[\"peso_kilos\"])"
   ]
  }
 ],
 "metadata": {
  "kernelspec": {
   "display_name": "Python 3",
   "language": "python",
   "name": "python3"
  },
  "language_info": {
   "codemirror_mode": {
    "name": "ipython",
    "version": 3
   },
   "file_extension": ".py",
   "mimetype": "text/x-python",
   "name": "python",
   "nbconvert_exporter": "python",
   "pygments_lexer": "ipython3",
   "version": "3.11.8"
  }
 },
 "nbformat": 4,
 "nbformat_minor": 2
}
