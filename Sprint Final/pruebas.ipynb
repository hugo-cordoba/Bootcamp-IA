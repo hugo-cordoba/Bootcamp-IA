{
 "cells": [
  {
   "cell_type": "code",
   "execution_count": 17,
   "metadata": {},
   "outputs": [],
   "source": [
    "from selenium import webdriver\n",
    "from selenium.webdriver.chrome.service import Service\n",
    "from webdriver_manager.chrome import ChromeDriverManager\n",
    "from selenium.webdriver.common.by import By\n",
    "import time\n"
   ]
  },
  {
   "cell_type": "code",
   "execution_count": 18,
   "metadata": {},
   "outputs": [
    {
     "name": "stdout",
     "output_type": "stream",
     "text": [
      "💾 Check your data here: https://console.apify.com/storage/datasets/JfZXUaH2p56QSgyIl\n",
      "there's a forbidden book called THE HIDDEN WORLD OF MARKETING SECRETSS that show's all of the dark marketing strategies that today's business gurus use and it's shocking\n",
      "That cover is so cool😍\n",
      "I just finished Station Eleven and it is going to stick with me for a while.\n",
      "Adding to my tbr\n",
      "Read this - enjoyed it despite it not quite going in the direction I expected- brave and well written\n",
      "Just buy it.. Now belongs to your review\n",
      "@nightowl_om so stunning 😍\n"
     ]
    }
   ],
   "source": [
    "from apify_client import ApifyClient\n",
    "\n",
    "# Initialize the ApifyClient with your Apify API token\n",
    "client = ApifyClient(\"apify_api_tIlQhfH6kfksfM03YFxnGpZRr2PGpQ2vEvqi\")\n",
    "\n",
    "# Prepare the Actor input\n",
    "run_input = {\n",
    "    \"directUrls\": [\"https://www.instagram.com/p/C4S4s-lIOWw/\"],\n",
    "    \"resultsType\": \"posts\",\n",
    "    \"resultsLimit\": 200,\n",
    "    \"searchType\": \"hashtag\",\n",
    "    \"searchLimit\": 1,\n",
    "}\n",
    "\n",
    "# Run the Actor and wait for it to finish\n",
    "run = client.actor(\"apify/instagram-scraper\").call(run_input=run_input)\n",
    "\n",
    "# Fetch and print Actor results from the run's dataset (if there are any)\n",
    "print(\"💾 Check your data here: https://console.apify.com/storage/datasets/\" + run[\"defaultDatasetId\"])\n",
    "for item in client.dataset(run[\"defaultDatasetId\"]).iterate_items():\n",
    "    for dict_comments in item['latestComments']:\n",
    "        print(dict_comments.get('text'))\n",
    "    \n"
   ]
  }
 ],
 "metadata": {
  "kernelspec": {
   "display_name": "thefreeai",
   "language": "python",
   "name": "python3"
  },
  "language_info": {
   "codemirror_mode": {
    "name": "ipython",
    "version": 3
   },
   "file_extension": ".py",
   "mimetype": "text/x-python",
   "name": "python",
   "nbconvert_exporter": "python",
   "pygments_lexer": "ipython3",
   "version": "3.11.8"
  }
 },
 "nbformat": 4,
 "nbformat_minor": 2
}
