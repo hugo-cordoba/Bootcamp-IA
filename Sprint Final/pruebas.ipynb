{
 "cells": [
  {
   "cell_type": "code",
   "execution_count": null,
   "metadata": {},
   "outputs": [],
   "source": [
    "from instascrape import *"
   ]
  },
  {
   "cell_type": "code",
   "execution_count": null,
   "metadata": {},
   "outputs": [],
   "source": [
    "def getComments(url):\n",
    "    postComments = Post(url)\n",
    "    postComments.scrape()\n",
    "    return postComments.get_recent_comments()\n",
    "\n",
    "comments=getComments(\"https://www.instagram.com/p/CLnSbP7hOjh/\")\n",
    "for comment in comments:\n",
    "   print(comment)"
   ]
  }
 ],
 "metadata": {
  "kernelspec": {
   "display_name": "thefreeai",
   "language": "python",
   "name": "python3"
  },
  "language_info": {
   "codemirror_mode": {
    "name": "ipython",
    "version": 3
   },
   "file_extension": ".py",
   "mimetype": "text/x-python",
   "name": "python",
   "nbconvert_exporter": "python",
   "pygments_lexer": "ipython3",
   "version": "3.11.8"
  }
 },
 "nbformat": 4,
 "nbformat_minor": 2
}
